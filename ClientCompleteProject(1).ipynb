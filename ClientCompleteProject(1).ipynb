{
  "nbformat": 4,
  "nbformat_minor": 5,
  "metadata": {
    "kernelspec": {
      "display_name": "Python 3",
      "language": "python",
      "name": "python3"
    },
    "language_info": {
      "codemirror_mode": {
        "name": "ipython",
        "version": 3
      },
      "file_extension": ".py",
      "mimetype": "text/x-python",
      "name": "python",
      "nbconvert_exporter": "python",
      "pygments_lexer": "ipython3",
      "version": "3.8.8"
    },
    "colab": {
      "name": "ClientCompleteProject.ipynb",
      "provenance": [],
      "collapsed_sections": []
    },
    "accelerator": "GPU"
  },
  "cells": [
    {
      "cell_type": "code",
      "metadata": {
        "id": "19781c67"
      },
      "source": [
        "import pandas as pd"
      ],
      "id": "19781c67",
      "execution_count": null,
      "outputs": []
    },
    {
      "cell_type": "code",
      "metadata": {
        "colab": {
          "base_uri": "https://localhost:8080/"
        },
        "id": "jhTrKQvIWXNl",
        "outputId": "5cbc10f8-904e-4ce9-a033-4e410797fc81"
      },
      "source": [
        "from google.colab import drive\n",
        "drive.mount('/content/drive')"
      ],
      "id": "jhTrKQvIWXNl",
      "execution_count": null,
      "outputs": [
        {
          "output_type": "stream",
          "name": "stdout",
          "text": [
            "Mounted at /content/drive\n"
          ]
        }
      ]
    },
    {
      "cell_type": "code",
      "metadata": {
        "id": "58a03eb5"
      },
      "source": [
        "import glob\n",
        "\n",
        "txtfiles = []\n",
        "for file in glob.glob(r\"/content/drive/MyDrive/text_websites/*.txt\"):\n",
        "    txtfiles.append(file)"
      ],
      "id": "58a03eb5",
      "execution_count": null,
      "outputs": []
    },
    {
      "cell_type": "code",
      "metadata": {
        "colab": {
          "base_uri": "https://localhost:8080/"
        },
        "id": "d4b950b2",
        "outputId": "1af1449d-0b02-4072-9bae-01ffc897daed"
      },
      "source": [
        "txtfiles"
      ],
      "id": "d4b950b2",
      "execution_count": null,
      "outputs": [
        {
          "output_type": "execute_result",
          "data": {
            "text/plain": [
              "['/content/drive/MyDrive/text_websites/http__www_bmcsurg_biomedcentral_com.txt',\n",
              " '/content/drive/MyDrive/text_websites/http__www_misjournal_net.txt',\n",
              " '/content/drive/MyDrive/text_websites/http__www_evergreenhealth_com.txt',\n",
              " '/content/drive/MyDrive/text_websites/httpwww_evergreenhealth_com.txt',\n",
              " '/content/drive/MyDrive/text_websites/httpwww_parkview_com.txt',\n",
              " '/content/drive/MyDrive/text_websites/httpwww_rochestercolon_com.txt',\n",
              " '/content/drive/MyDrive/text_websites/httpwww_mclaren_org.txt',\n",
              " '/content/drive/MyDrive/text_websites/httpwww_pubmed_ncbi_nlm_nih_gov.txt',\n",
              " '/content/drive/MyDrive/text_websites/httpwww_matsusurgical_com.txt',\n",
              " '/content/drive/MyDrive/text_websites/httpwww_piedmontcolorectal_com.txt',\n",
              " '/content/drive/MyDrive/text_websites/httpwww_nwcch_com.txt',\n",
              " '/content/drive/MyDrive/text_websites/httpwww_ncbi_nlm_nih_gov.txt',\n",
              " '/content/drive/MyDrive/text_websites/httpwww_orlandohealth_com.txt',\n",
              " '/content/drive/MyDrive/text_websites/httpwww_uofmhealth_org.txt',\n",
              " '/content/drive/MyDrive/text_websites/httpwww_uclahealth_org.txt',\n",
              " '/content/drive/MyDrive/text_websites/httpwww_gwhospital_com.txt',\n",
              " '/content/drive/MyDrive/text_websites/httpwww_dignityhealth_org.txt',\n",
              " '/content/drive/MyDrive/text_websites/httpwww_bidmc_org.txt',\n",
              " '/content/drive/MyDrive/text_websites/httpwww_sages_org.txt',\n",
              " '/content/drive/MyDrive/text_websites/httpwww_atlcrs_com.txt',\n",
              " '/content/drive/MyDrive/text_websites/httpwww_csakc_com.txt',\n",
              " '/content/drive/MyDrive/text_websites/httpwww_methodisthealthsystem_org.txt',\n",
              " '/content/drive/MyDrive/text_websites/httpwww_orovillehospital_com.txt',\n",
              " '/content/drive/MyDrive/text_websites/httpwww_tcrscolondoctors_com.txt',\n",
              " '/content/drive/MyDrive/text_websites/httpwww_vhcphysiciangroup_com.txt',\n",
              " '/content/drive/MyDrive/text_websites/httpwww_westvalleycrs_com.txt',\n",
              " '/content/drive/MyDrive/text_websites/httpwww_chicagocolorectal_com.txt',\n",
              " '/content/drive/MyDrive/text_websites/httpwww_degruyter_com.txt',\n",
              " '/content/drive/MyDrive/text_websites/httpwww_academic_oup_com.txt',\n",
              " '/content/drive/MyDrive/text_websites/httpwww_gallianosurgerygroup_com.txt',\n",
              " '/content/drive/MyDrive/text_websites/httpwww_suburbansurgicalcare_com.txt',\n",
              " '/content/drive/MyDrive/text_websites/httpwww_moffitt_org.txt',\n",
              " '/content/drive/MyDrive/text_websites/httpwww_newportcolorectal_com.txt',\n",
              " '/content/drive/MyDrive/text_websites/httpwww_mskcc_org.txt',\n",
              " '/content/drive/MyDrive/text_websites/httpwww_austinregionalclinic_com.txt',\n",
              " '/content/drive/MyDrive/text_websites/httpwww_uchicagomedicine_org.txt',\n",
              " '/content/drive/MyDrive/text_websites/httpwww_colonrectalhealth_com.txt',\n",
              " '/content/drive/MyDrive/text_websites/httpwww_csgaky_com.txt',\n",
              " '/content/drive/MyDrive/text_websites/httpwww_thibodauxsurgery_com.txt',\n",
              " '/content/drive/MyDrive/text_websites/httpwww_colorectalsurgeonssydney_com_au.txt',\n",
              " '/content/drive/MyDrive/text_websites/httpwww_rwhs_org.txt',\n",
              " '/content/drive/MyDrive/text_websites/httpwww_mcall_com.txt',\n",
              " '/content/drive/MyDrive/text_websites/httpwww_onlinelibrary_wiley_com.txt',\n",
              " '/content/drive/MyDrive/text_websites/httpwww_carveth_com.txt',\n",
              " '/content/drive/MyDrive/text_websites/httpwww_cmhshealth_org.txt',\n",
              " '/content/drive/MyDrive/text_websites/httpwww_hopessurgical_com.txt',\n",
              " '/content/drive/MyDrive/text_websites/httpwww_coloradosurgical_com.txt',\n",
              " '/content/drive/MyDrive/text_websites/httpwww_surgerybirmingham_com.txt',\n",
              " '/content/drive/MyDrive/text_websites/httpwww_grinnellsurgeons_com.txt',\n",
              " '/content/drive/MyDrive/text_websites/httpwww_wakemed_org.txt',\n",
              " '/content/drive/MyDrive/text_websites/httpwww_ctcolorectal_com.txt',\n",
              " '/content/drive/MyDrive/text_websites/httpwww_drbrianharkins_com.txt',\n",
              " '/content/drive/MyDrive/text_websites/httpwww_saintalphonsus_org.txt',\n",
              " '/content/drive/MyDrive/text_websites/httpwww_carolinaeasthealth_com.txt',\n",
              " '/content/drive/MyDrive/text_websites/httpwww_crsurgeryoc_com.txt',\n",
              " '/content/drive/MyDrive/text_websites/httpwww_unitypoint_org.txt',\n",
              " '/content/drive/MyDrive/text_websites/httpwww_gulfportsurgeryclinic_com.txt',\n",
              " '/content/drive/MyDrive/text_websites/httpwww_silvercross_org.txt',\n",
              " '/content/drive/MyDrive/text_websites/httpwww_gsalincoln_com.txt',\n",
              " '/content/drive/MyDrive/text_websites/httpwww_renown_org.txt',\n",
              " '/content/drive/MyDrive/text_websites/httpwww_eastcoopercolorectalsurgery_com.txt',\n",
              " '/content/drive/MyDrive/text_websites/httpwww_julesgarbus_com.txt',\n",
              " '/content/drive/MyDrive/text_websites/httpwww_saddlebackmedicalgroup_com.txt',\n",
              " '/content/drive/MyDrive/text_websites/httpwww_crspecialists_com.txt',\n",
              " '/content/drive/MyDrive/text_websites/httpwww_medstarfranklinsquare_org.txt',\n",
              " '/content/drive/MyDrive/text_websites/httpwww_angeleshealth_com.txt',\n",
              " '/content/drive/MyDrive/text_websites/httpwww_paulsavocamd_com.txt',\n",
              " '/content/drive/MyDrive/text_websites/httpwww_drugwatch_com.txt',\n",
              " '/content/drive/MyDrive/text_websites/httpwww_holy-cross_com.txt',\n",
              " '/content/drive/MyDrive/text_websites/httpwww_cancercenter_com.txt',\n",
              " '/content/drive/MyDrive/text_websites/httpwww_apollohospitals_com.txt',\n",
              " '/content/drive/MyDrive/text_websites/httpwww_adventhealth_com.txt',\n",
              " '/content/drive/MyDrive/text_websites/httpwww_shastaregional_com.txt',\n",
              " '/content/drive/MyDrive/text_websites/httpwww_holycrosshealth_org.txt',\n",
              " '/content/drive/MyDrive/text_websites/httpwww_beaumont_org.txt',\n",
              " '/content/drive/MyDrive/text_websites/httpwww_seidsg_com.txt',\n",
              " '/content/drive/MyDrive/text_websites/httpwww_nfmmc_org.txt',\n",
              " '/content/drive/MyDrive/text_websites/httpwww_hialeahhosp_com.txt',\n",
              " '/content/drive/MyDrive/text_websites/httpwww_colonrectalcenter_com.txt',\n",
              " '/content/drive/MyDrive/text_websites/httpwww_medicalmex_com.txt',\n",
              " '/content/drive/MyDrive/text_websites/httpwww_ecommunity_com.txt',\n",
              " '/content/drive/MyDrive/text_websites/httpwww_lacolon_com.txt',\n",
              " '/content/drive/MyDrive/text_websites/httpwww_communitymedical_org.txt',\n",
              " '/content/drive/MyDrive/text_websites/httpwww_chistvincent_com.txt',\n",
              " '/content/drive/MyDrive/text_websites/httpwww_nkch_org.txt',\n",
              " '/content/drive/MyDrive/text_websites/httpwww_nychealthandhospitals_org.txt',\n",
              " '/content/drive/MyDrive/text_websites/httpwww_foxchase_org.txt',\n",
              " '/content/drive/MyDrive/text_websites/httpwww_stonybrookmedicine_edu.txt',\n",
              " '/content/drive/MyDrive/text_websites/httpwww_thehospitalsofprovidence_com.txt',\n",
              " '/content/drive/MyDrive/text_websites/httpwww_suburbanhosp_org.txt',\n",
              " '/content/drive/MyDrive/text_websites/httpwww_drlagallagher_com.txt',\n",
              " '/content/drive/MyDrive/text_websites/httpwww_emoryhealthcare_org.txt',\n",
              " '/content/drive/MyDrive/text_websites/httpwww_uwmedicine_org.txt',\n",
              " '/content/drive/MyDrive/text_websites/httpwww_phhealthcare_org.txt',\n",
              " '/content/drive/MyDrive/text_websites/httpwww_nghs_com.txt',\n",
              " '/content/drive/MyDrive/text_websites/httpwww_masjax_com.txt',\n",
              " '/content/drive/MyDrive/text_websites/httpwww_uab_edu.txt',\n",
              " '/content/drive/MyDrive/text_websites/httpwww_trivalleyurology_com.txt',\n",
              " '/content/drive/MyDrive/text_websites/httpwww_texashealthrockwall_com.txt',\n",
              " '/content/drive/MyDrive/text_websites/httpwww_southcoast_org.txt',\n",
              " '/content/drive/MyDrive/text_websites/httpwww_drsamkashani_com.txt',\n",
              " '/content/drive/MyDrive/text_websites/httpwww_inova_org.txt',\n",
              " '/content/drive/MyDrive/text_websites/httpwww_firsthealth_org.txt',\n",
              " '/content/drive/MyDrive/text_websites/httpwww_colorectalcentre_co_uk.txt',\n",
              " '/content/drive/MyDrive/text_websites/httpwww_torrancememorial_org.txt',\n",
              " '/content/drive/MyDrive/text_websites/httpwww_nbcnews_com.txt',\n",
              " '/content/drive/MyDrive/text_websites/httpwww_woosterhospital_org.txt',\n",
              " '/content/drive/MyDrive/text_websites/httpwww_uchealth_com.txt',\n",
              " '/content/drive/MyDrive/text_websites/httpwww_umiamihealth_org.txt',\n",
              " '/content/drive/MyDrive/text_websites/httpwww_hcamidwest_com.txt',\n",
              " '/content/drive/MyDrive/text_websites/httpwww_bacrs_com.txt',\n",
              " '/content/drive/MyDrive/text_websites/httpwww_stlukesonline_org.txt',\n",
              " '/content/drive/MyDrive/text_websites/httpwww_medicine_uams_edu.txt',\n",
              " '/content/drive/MyDrive/text_websites/httpwww_atlantichealth_org.txt',\n",
              " '/content/drive/MyDrive/text_websites/httpwww_maconsurgicalassociates_com.txt',\n",
              " '/content/drive/MyDrive/text_websites/httpwww_southnassau_org.txt',\n",
              " '/content/drive/MyDrive/text_websites/httpwww_capitolcolon_com.txt',\n",
              " '/content/drive/MyDrive/text_websites/httpwww_southcountyhealth_org.txt',\n",
              " '/content/drive/MyDrive/text_websites/httpwww_marinahospital_com.txt',\n",
              " '/content/drive/MyDrive/text_websites/httpwww_ejgh_org.txt',\n",
              " '/content/drive/MyDrive/text_websites/httpwww_crssny_com.txt',\n",
              " '/content/drive/MyDrive/text_websites/httpwww_gvh_org.txt',\n",
              " '/content/drive/MyDrive/text_websites/httpwww_advancedsurgery_com.txt',\n",
              " '/content/drive/MyDrive/text_websites/httpwww_nyulangone_org.txt',\n",
              " '/content/drive/MyDrive/text_websites/httpwww_goodsamhosp_org.txt',\n",
              " '/content/drive/MyDrive/text_websites/httpwww_covenanthealthcare_com.txt',\n",
              " '/content/drive/MyDrive/text_websites/httpwww_midmichigan_org.txt',\n",
              " '/content/drive/MyDrive/text_websites/httpwww_saintanneshospital_org.txt',\n",
              " '/content/drive/MyDrive/text_websites/httpwww_landmarkmedical_org.txt',\n",
              " '/content/drive/MyDrive/text_websites/httpwww_edwardsccc_org.txt',\n",
              " '/content/drive/MyDrive/text_websites/httpwww_mauryregional_com.txt',\n",
              " '/content/drive/MyDrive/text_websites/httpwww_oneidahealth_org.txt',\n",
              " '/content/drive/MyDrive/text_websites/httpwww_surgicaloasis_com.txt',\n",
              " '/content/drive/MyDrive/text_websites/httpwww_spectrumhealthlakeland_org.txt',\n",
              " '/content/drive/MyDrive/text_websites/httpwww_pbmchealth_org.txt',\n",
              " '/content/drive/MyDrive/text_websites/httpwww_nwths_com.txt',\n",
              " '/content/drive/MyDrive/text_websites/httpwww_hennepinhealthcare_org.txt',\n",
              " '/content/drive/MyDrive/text_websites/httpwww_saintlukeskc_org.txt',\n",
              " '/content/drive/MyDrive/text_websites/httpwww_delec_com_ar.txt',\n",
              " '/content/drive/MyDrive/text_websites/httpwww_beebehealthcare_org.txt',\n",
              " '/content/drive/MyDrive/text_websites/httpwww_harbor-ucla_org.txt',\n",
              " '/content/drive/MyDrive/text_websites/httpwww_mercyhealthsystem_org.txt',\n",
              " '/content/drive/MyDrive/text_websites/httpwww_centrastate_com.txt',\n",
              " '/content/drive/MyDrive/text_websites/httpwww_hollandhospital_org.txt',\n",
              " '/content/drive/MyDrive/text_websites/httpwww_nm_org.txt',\n",
              " '/content/drive/MyDrive/text_websites/httpwww_nvscc_com.txt',\n",
              " '/content/drive/MyDrive/text_websites/httpwww_gladstonedispatch_com.txt',\n",
              " '/content/drive/MyDrive/text_websites/httpwww_thechristhospital_com.txt',\n",
              " '/content/drive/MyDrive/text_websites/httpwww_mytpmg_com.txt',\n",
              " '/content/drive/MyDrive/text_websites/httpwww_nbc4i_com.txt',\n",
              " '/content/drive/MyDrive/text_websites/httpwww_femsurgery_com.txt',\n",
              " '/content/drive/MyDrive/text_websites/httpwww_wuphysicians_wustl_edu.txt',\n",
              " '/content/drive/MyDrive/text_websites/httpwww_ccrdaz_com.txt',\n",
              " '/content/drive/MyDrive/text_websites/httpwww_weillcornell_org.txt',\n",
              " '/content/drive/MyDrive/text_websites/httpwww_muhealth_org.txt',\n",
              " '/content/drive/MyDrive/text_websites/httpwww_centura_org.txt',\n",
              " '/content/drive/MyDrive/text_websites/httpwww_apollogleneagles_in.txt',\n",
              " '/content/drive/MyDrive/text_websites/httpwww_lakemacquarieprivate_com.txt',\n",
              " '/content/drive/MyDrive/text_websites/httpwww_sunwaymedical_com.txt',\n",
              " '/content/drive/MyDrive/text_websites/httpwww_mtbeurope_info.txt',\n",
              " '/content/drive/MyDrive/text_websites/httpwww_virtua_org.txt',\n",
              " '/content/drive/MyDrive/text_websites/httpwww_utmbhealth_com.txt',\n",
              " '/content/drive/MyDrive/text_websites/httpwww_mhs_net.txt',\n",
              " '/content/drive/MyDrive/text_websites/httpwww_healthcare_utah_edu.txt',\n",
              " '/content/drive/MyDrive/text_websites/httpwww_hartfordhealthcaremedicalgroup_org.txt',\n",
              " '/content/drive/MyDrive/text_websites/httpwww_healthgrades_com.txt']"
            ]
          },
          "metadata": {},
          "execution_count": 4
        }
      ]
    },
    {
      "cell_type": "code",
      "metadata": {
        "id": "hUsCwUsTa1Ew"
      },
      "source": [
        "data_tas = {\"Lines\": []}"
      ],
      "id": "hUsCwUsTa1Ew",
      "execution_count": null,
      "outputs": []
    },
    {
      "cell_type": "code",
      "metadata": {
        "id": "14bf2a0d"
      },
      "source": [
        "\n",
        "with open(txtfiles[0], encoding=\"utf8\") as f:\n",
        "    lines_1 = f.readlines()\n",
        "\n",
        "data_tas[\"Lines\"].append(lines_1)\n"
      ],
      "id": "14bf2a0d",
      "execution_count": null,
      "outputs": []
    },
    {
      "cell_type": "code",
      "metadata": {
        "id": "617e96ab"
      },
      "source": [
        "\n",
        "\n",
        "\n",
        "\n",
        "with open(txtfiles[1], encoding=\"utf8\") as f:\n",
        "    lines_2 = f.readlines()\n",
        "\n",
        "data_tas[\"Lines\"].append(lines_2)\n"
      ],
      "id": "617e96ab",
      "execution_count": null,
      "outputs": []
    },
    {
      "cell_type": "code",
      "metadata": {
        "id": "5325350d"
      },
      "source": [
        "#data_task= {\"Lines\": [], \"Value\": []}\n",
        "with open(txtfiles[2], encoding=\"utf8\") as f:\n",
        "    lines_3 = f.readlines()\n",
        "\n",
        "data_tas[\"Lines\"].append(lines_3)\n",
        "three = pd.DataFrame(data_tas)"
      ],
      "id": "5325350d",
      "execution_count": null,
      "outputs": []
    },
    {
      "cell_type": "code",
      "metadata": {
        "colab": {
          "base_uri": "https://localhost:8080/",
          "height": 144
        },
        "id": "y_gk-wsFoD7R",
        "outputId": "1025540b-54cc-4c95-e4f1-5fe32d2ee0bd"
      },
      "source": [
        "three[[\"Lines\"]]"
      ],
      "id": "y_gk-wsFoD7R",
      "execution_count": null,
      "outputs": [
        {
          "output_type": "execute_result",
          "data": {
            "text/html": [
              "<div>\n",
              "<style scoped>\n",
              "    .dataframe tbody tr th:only-of-type {\n",
              "        vertical-align: middle;\n",
              "    }\n",
              "\n",
              "    .dataframe tbody tr th {\n",
              "        vertical-align: top;\n",
              "    }\n",
              "\n",
              "    .dataframe thead th {\n",
              "        text-align: right;\n",
              "    }\n",
              "</style>\n",
              "<table border=\"1\" class=\"dataframe\">\n",
              "  <thead>\n",
              "    <tr style=\"text-align: right;\">\n",
              "      <th></th>\n",
              "      <th>Lines</th>\n",
              "    </tr>\n",
              "  </thead>\n",
              "  <tbody>\n",
              "    <tr>\n",
              "      <th>0</th>\n",
              "      <td>[Skip to main content Advertisement Search Exp...</td>\n",
              "    </tr>\n",
              "    <tr>\n",
              "      <th>1</th>\n",
              "      <td>[mis Search OAE Journals Search in all OAE Jou...</td>\n",
              "    </tr>\n",
              "    <tr>\n",
              "      <th>2</th>\n",
              "      <td>[Close Set Your Location to See Relevant Infor...</td>\n",
              "    </tr>\n",
              "  </tbody>\n",
              "</table>\n",
              "</div>"
            ],
            "text/plain": [
              "                                               Lines\n",
              "0  [Skip to main content Advertisement Search Exp...\n",
              "1  [mis Search OAE Journals Search in all OAE Jou...\n",
              "2  [Close Set Your Location to See Relevant Infor..."
            ]
          },
          "metadata": {},
          "execution_count": 9
        }
      ]
    },
    {
      "cell_type": "code",
      "metadata": {
        "id": "77b37d30"
      },
      "source": [
        "#data_task= {\"Lines\": [], \"Value\": []}\n",
        "with open(txtfiles[3], encoding=\"utf8\") as f:\n",
        "    lines_4 = f.readlines()\n",
        "\n",
        "data_tas[\"Lines\"].append(lines_4)"
      ],
      "id": "77b37d30",
      "execution_count": null,
      "outputs": []
    },
    {
      "cell_type": "code",
      "metadata": {
        "id": "259c24dc"
      },
      "source": [
        "#data_task= {\"Lines\": [], \"Value\": [] }\n",
        "with open(txtfiles[4], encoding=\"utf8\") as f:\n",
        "    lines_5 = f.readlines()\n",
        "\n",
        "data_tas[\"Lines\"].append(lines_5)"
      ],
      "id": "259c24dc",
      "execution_count": null,
      "outputs": []
    },
    {
      "cell_type": "code",
      "metadata": {
        "id": "3c28e6a8"
      },
      "source": [
        "##data_task= {\"Lines\": [], \"Value\": []}\n",
        "with open(txtfiles[5], encoding=\"utf8\") as f:\n",
        "    lines_6 = f.readlines()\n",
        "\n",
        "data_tas[\"Lines\"].append(lines_6)"
      ],
      "id": "3c28e6a8",
      "execution_count": null,
      "outputs": []
    },
    {
      "cell_type": "code",
      "metadata": {
        "id": "245a9f0c"
      },
      "source": [
        "#data_task= {\"Lines\": [], \"Value\": []}\n",
        "with open(txtfiles[6], encoding=\"utf8\") as f:\n",
        "    lines_7 = f.readlines()\n",
        "\n",
        "data_tas[\"Lines\"].append(lines_7)"
      ],
      "id": "245a9f0c",
      "execution_count": null,
      "outputs": []
    },
    {
      "cell_type": "code",
      "metadata": {
        "id": "57b10194"
      },
      "source": [
        "#data_task= {\"Lines\": [], \"Value\": []}\n",
        "with open(txtfiles[7], encoding=\"utf8\") as f:\n",
        "    lines_8 = f.readlines()\n",
        "\n",
        "data_tas[\"Lines\"].append(lines_8)"
      ],
      "id": "57b10194",
      "execution_count": null,
      "outputs": []
    },
    {
      "cell_type": "code",
      "metadata": {
        "id": "374a9f3d"
      },
      "source": [
        "#data_task= {\"Lines\": [], \"Value\": []}\n",
        "with open(txtfiles[8], encoding=\"utf8\") as f:\n",
        "    lines_9 = f.readlines()\n",
        "\n",
        "data_tas[\"Lines\"].append(lines_9)"
      ],
      "id": "374a9f3d",
      "execution_count": null,
      "outputs": []
    },
    {
      "cell_type": "code",
      "metadata": {
        "id": "783ede15"
      },
      "source": [
        "#data_task= {\"Lines\": [], \"Value\": []}\n",
        "with open(txtfiles[9], encoding=\"utf8\") as f:\n",
        "    lines_10 = f.readlines()\n",
        "\n",
        "data_tas[\"Lines\"].append(lines_10)\n"
      ],
      "id": "783ede15",
      "execution_count": null,
      "outputs": []
    },
    {
      "cell_type": "code",
      "metadata": {
        "id": "d58c4331"
      },
      "source": [
        "#data_task= {\"Lines\": [], \"Value\": []}\n",
        "with open(txtfiles[10], encoding=\"utf8\") as f:\n",
        "    lines_11 = f.readlines()\n",
        "\n",
        "data_tas[\"Lines\"].append(lines_11)"
      ],
      "id": "d58c4331",
      "execution_count": null,
      "outputs": []
    },
    {
      "cell_type": "code",
      "metadata": {
        "id": "d63e0581"
      },
      "source": [
        "#data_task= {\"Lines\": [],\"Value\": []}\n",
        "with open(txtfiles[11], encoding=\"utf8\") as f:\n",
        "    lines_12 = f.readlines()\n",
        "\n",
        "data_tas[\"Lines\"].append(lines_12)\n"
      ],
      "id": "d63e0581",
      "execution_count": null,
      "outputs": []
    },
    {
      "cell_type": "code",
      "metadata": {
        "id": "84e8ba94"
      },
      "source": [
        "#data_task= {\"Lines\": [], \"Value\": []}\n",
        "with open(txtfiles[12], encoding=\"utf8\") as f:\n",
        "    lines_13 = f.readlines()\n",
        "\n",
        "data_tas[\"Lines\"].append(lines_13)\n",
        "\n"
      ],
      "id": "84e8ba94",
      "execution_count": null,
      "outputs": []
    },
    {
      "cell_type": "code",
      "metadata": {
        "id": "46ae2541"
      },
      "source": [
        "#data_task= {\"Lines\": [], \"Value\": []}\n",
        "with open(txtfiles[13], encoding=\"utf8\") as f:\n",
        "    lines_14 = f.readlines()\n",
        "\n",
        "data_tas[\"Lines\"].append(lines_14)"
      ],
      "id": "46ae2541",
      "execution_count": null,
      "outputs": []
    },
    {
      "cell_type": "code",
      "metadata": {
        "id": "accd8bdb"
      },
      "source": [
        "#data_task= {\"Lines\": [], \"Value\": []}\n",
        "with open(txtfiles[14], encoding=\"utf8\") as f:\n",
        "    lines_15 = f.readlines()\n",
        "\n",
        "data_tas[\"Lines\"].append(lines_15)"
      ],
      "id": "accd8bdb",
      "execution_count": null,
      "outputs": []
    },
    {
      "cell_type": "code",
      "metadata": {
        "id": "6dd8618a"
      },
      "source": [
        "#data_task= {\"Lines\": [], \"Value\": []}\n",
        "with open(txtfiles[15], encoding=\"utf8\") as f:\n",
        "    lines_16 = f.readlines()\n",
        "\n",
        "data_tas[\"Lines\"].append(lines_16)"
      ],
      "id": "6dd8618a",
      "execution_count": null,
      "outputs": []
    },
    {
      "cell_type": "code",
      "metadata": {
        "id": "512b9e0e"
      },
      "source": [
        "#data_task= {\"Lines\": [], \"Value\": []}\n",
        "with open(txtfiles[16], encoding=\"utf8\") as f:\n",
        "    lines_17 = f.readlines()\n",
        "\n",
        "data_tas[\"Lines\"].append(lines_17)"
      ],
      "id": "512b9e0e",
      "execution_count": null,
      "outputs": []
    },
    {
      "cell_type": "code",
      "metadata": {
        "id": "72bab974"
      },
      "source": [
        "#data_task= {\"Lines\": [], \"Value\": []}\n",
        "with open(txtfiles[17], encoding=\"utf8\") as f:\n",
        "    lines_18 = f.readlines()\n",
        "\n",
        "data_tas[\"Lines\"].append(lines_18)"
      ],
      "id": "72bab974",
      "execution_count": null,
      "outputs": []
    },
    {
      "cell_type": "code",
      "metadata": {
        "id": "5c8abc6f"
      },
      "source": [
        "#data_task= {\"Lines\": [], \"Value\": []}\n",
        "with open(txtfiles[18], encoding=\"utf8\") as f:\n",
        "    lines_19 = f.readlines()\n",
        "\n",
        "data_tas[\"Lines\"].append(lines_19)"
      ],
      "id": "5c8abc6f",
      "execution_count": null,
      "outputs": []
    },
    {
      "cell_type": "code",
      "metadata": {
        "id": "80539797"
      },
      "source": [
        "#data_task= {\"Lines\": [], \"Value\": []}\n",
        "with open(txtfiles[19], encoding=\"utf8\") as f:\n",
        "    lines_20 = f.readlines()\n",
        "\n",
        "data_tas[\"Lines\"].append(lines_20)"
      ],
      "id": "80539797",
      "execution_count": null,
      "outputs": []
    },
    {
      "cell_type": "code",
      "metadata": {
        "id": "43adc5b6"
      },
      "source": [
        "#data_task= {\"Lines\": [], \"Value\": []}\n",
        "with open(txtfiles[20], encoding=\"utf8\") as f:\n",
        "    lines_21 = f.readlines()\n",
        "\n",
        "data_tas[\"Lines\"].append(lines_21)"
      ],
      "id": "43adc5b6",
      "execution_count": null,
      "outputs": []
    },
    {
      "cell_type": "code",
      "metadata": {
        "id": "453fb5c6"
      },
      "source": [
        "#data_task= {\"Lines\": [], \"Value\": []}\n",
        "with open(txtfiles[21], encoding=\"utf8\") as f:\n",
        "    lines_22 = f.readlines()\n",
        "\n",
        "data_tas[\"Lines\"].append(lines_22)"
      ],
      "id": "453fb5c6",
      "execution_count": null,
      "outputs": []
    },
    {
      "cell_type": "code",
      "metadata": {
        "id": "c63fe0d6"
      },
      "source": [
        "#data_task= {\"Lines\": [], \"Value\": []}\n",
        "with open(txtfiles[22], encoding=\"utf8\") as f:\n",
        "    lines_23 = f.readlines()\n",
        "\n",
        "data_tas[\"Lines\"].append(lines_23)"
      ],
      "id": "c63fe0d6",
      "execution_count": null,
      "outputs": []
    },
    {
      "cell_type": "code",
      "metadata": {
        "id": "ae18ec14"
      },
      "source": [
        "#data_task= {\"Lines\": [], \"Value\": []}\n",
        "with open(txtfiles[23], encoding=\"utf8\") as f:\n",
        "    lines_24 = f.readlines()\n",
        "\n",
        "data_tas[\"Lines\"].append(lines_24)"
      ],
      "id": "ae18ec14",
      "execution_count": null,
      "outputs": []
    },
    {
      "cell_type": "code",
      "metadata": {
        "id": "b1a06b8c"
      },
      "source": [
        "#data_task= {\"Lines\": [], \"Value\": []}\n",
        "with open(txtfiles[24], encoding=\"utf8\") as f:\n",
        "    lines_25 = f.readlines()\n",
        "\n",
        "data_tas[\"Lines\"].append(lines_25)"
      ],
      "id": "b1a06b8c",
      "execution_count": null,
      "outputs": []
    },
    {
      "cell_type": "code",
      "metadata": {
        "id": "5f766e38"
      },
      "source": [
        "#data_task= {\"Lines\": [], \"Value\": []}\n",
        "with open(txtfiles[25], encoding=\"utf8\") as f:\n",
        "    lines_26 = f.readlines()\n",
        "\n",
        "data_tas[\"Lines\"].append(lines_26)"
      ],
      "id": "5f766e38",
      "execution_count": null,
      "outputs": []
    },
    {
      "cell_type": "code",
      "metadata": {
        "id": "43548f7f"
      },
      "source": [
        "#data_task= {\"Lines\": [], \"Value\": []}\n",
        "with open(txtfiles[26], encoding=\"utf8\") as f:\n",
        "    lines_27 = f.readlines()\n",
        "\n",
        "data_tas[\"Lines\"].append(lines_27)"
      ],
      "id": "43548f7f",
      "execution_count": null,
      "outputs": []
    },
    {
      "cell_type": "code",
      "metadata": {
        "id": "a7f71968"
      },
      "source": [
        "#data_task= {\"Lines\": [], \"Value\": []}\n",
        "with open(txtfiles[27], encoding=\"utf8\") as f:\n",
        "    lines_28 = f.readlines()\n",
        "\n",
        "data_tas[\"Lines\"].append(lines_28)"
      ],
      "id": "a7f71968",
      "execution_count": null,
      "outputs": []
    },
    {
      "cell_type": "code",
      "metadata": {
        "id": "80d1ea2a"
      },
      "source": [
        "#data_task= {\"Lines\": [], \"Value\": []}\n",
        "with open(txtfiles[28], encoding=\"utf8\") as f:\n",
        "    lines_29 = f.readlines()\n",
        "\n",
        "data_tas[\"Lines\"].append(lines_29)"
      ],
      "id": "80d1ea2a",
      "execution_count": null,
      "outputs": []
    },
    {
      "cell_type": "code",
      "metadata": {
        "id": "8efa59b9"
      },
      "source": [
        "#data_task= {\"Lines\": [], \"Value\": []}\n",
        "with open(txtfiles[29], encoding=\"utf8\") as f:\n",
        "    lines_30 = f.readlines()\n",
        "\n",
        "data_tas[\"Lines\"].append(lines_30)"
      ],
      "id": "8efa59b9",
      "execution_count": null,
      "outputs": []
    },
    {
      "cell_type": "code",
      "metadata": {
        "id": "95e4fc98"
      },
      "source": [
        "#data_task= {\"Lines\": [], \"Value\": []}\n",
        "with open(txtfiles[30], encoding=\"utf8\") as f:\n",
        "    lines_31 = f.readlines()\n",
        "\n",
        "data_tas[\"Lines\"].append(lines_31)"
      ],
      "id": "95e4fc98",
      "execution_count": null,
      "outputs": []
    },
    {
      "cell_type": "code",
      "metadata": {
        "id": "cc7c5761"
      },
      "source": [
        "#data_task= {\"Lines\": [], \"Value\": []}\n",
        "with open(txtfiles[31], encoding=\"utf8\") as f:\n",
        "    lines_32= f.readlines()\n",
        "\n",
        "data_tas[\"Lines\"].append(lines_32)"
      ],
      "id": "cc7c5761",
      "execution_count": null,
      "outputs": []
    },
    {
      "cell_type": "code",
      "metadata": {
        "id": "7db0bb74"
      },
      "source": [
        "#data_task= {\"Lines\": [], \"Value\": []}\n",
        "with open(txtfiles[32], encoding=\"utf8\") as f:\n",
        "    lines_33 = f.readlines()\n",
        "\n",
        "data_tas[\"Lines\"].append(lines_33)"
      ],
      "id": "7db0bb74",
      "execution_count": null,
      "outputs": []
    },
    {
      "cell_type": "code",
      "metadata": {
        "id": "86e6b2ce"
      },
      "source": [
        "#data_task= {\"Lines\": [], \"Value\": []}\n",
        "with open(txtfiles[33], encoding=\"utf8\") as f:\n",
        "    lines_34 = f.readlines()\n",
        "\n",
        "data_tas[\"Lines\"].append(lines_34)"
      ],
      "id": "86e6b2ce",
      "execution_count": null,
      "outputs": []
    },
    {
      "cell_type": "code",
      "metadata": {
        "id": "b5ecdd9e"
      },
      "source": [
        "#data_task= {\"Lines\": [], \"Value\": []}\n",
        "with open(txtfiles[34], encoding=\"utf8\") as f:\n",
        "    lines_35 = f.readlines()\n",
        "\n",
        "data_tas[\"Lines\"].append(lines_35)"
      ],
      "id": "b5ecdd9e",
      "execution_count": null,
      "outputs": []
    },
    {
      "cell_type": "code",
      "metadata": {
        "id": "cb03bf95"
      },
      "source": [
        "#data_task= {\"Lines\": [], \"Value\": []}\n",
        "with open(txtfiles[35], encoding=\"utf8\") as f:\n",
        "    lines_36 = f.readlines()\n",
        "\n",
        "data_tas[\"Lines\"].append(lines_36)"
      ],
      "id": "cb03bf95",
      "execution_count": null,
      "outputs": []
    },
    {
      "cell_type": "code",
      "metadata": {
        "id": "49862de6"
      },
      "source": [
        "#data_task= {\"Lines\": [], \"Value\": []}\n",
        "with open(txtfiles[36], encoding=\"utf8\") as f:\n",
        "    lines_37 = f.readlines()\n",
        "\n",
        "data_tas[\"Lines\"].append(lines_37)"
      ],
      "id": "49862de6",
      "execution_count": null,
      "outputs": []
    },
    {
      "cell_type": "code",
      "metadata": {
        "id": "36bbbabc"
      },
      "source": [
        "#data_task= {\"Lines\": [], \"Value\": []}\n",
        "with open(txtfiles[37], encoding=\"utf8\") as f:\n",
        "    lines_38 = f.readlines()\n",
        "\n",
        "data_tas[\"Lines\"].append(lines_38)"
      ],
      "id": "36bbbabc",
      "execution_count": null,
      "outputs": []
    },
    {
      "cell_type": "code",
      "metadata": {
        "id": "a1a03bb3"
      },
      "source": [
        "#data_task= {\"Lines\": [], \"Value\": []}\n",
        "with open(txtfiles[38], encoding=\"utf8\") as f:\n",
        "    lines_39 = f.readlines()\n",
        "\n",
        "data_tas[\"Lines\"].append(lines_39)"
      ],
      "id": "a1a03bb3",
      "execution_count": null,
      "outputs": []
    },
    {
      "cell_type": "code",
      "metadata": {
        "id": "e6df25b7"
      },
      "source": [
        "#data_task= {\"Lines\": [], \"Value\": []}\n",
        "with open(txtfiles[39], encoding=\"utf8\") as f:\n",
        "    lines_40 = f.readlines()\n",
        "\n",
        "data_tas[\"Lines\"].append(lines_40)"
      ],
      "id": "e6df25b7",
      "execution_count": null,
      "outputs": []
    },
    {
      "cell_type": "code",
      "metadata": {
        "id": "9b62e283"
      },
      "source": [
        "#data_task= {\"Lines\": [], \"Value\": []}\n",
        "with open(txtfiles[40], encoding=\"utf8\") as f:\n",
        "    lines_41 = f.readlines()\n",
        "\n",
        "data_tas[\"Lines\"].append(lines_41)"
      ],
      "id": "9b62e283",
      "execution_count": null,
      "outputs": []
    },
    {
      "cell_type": "code",
      "metadata": {
        "id": "42d1c51f"
      },
      "source": [
        "#data_task= {\"Lines\": [], \"Value\": []}\n",
        "with open(txtfiles[41], encoding=\"utf8\") as f:\n",
        "    lines_42 = f.readlines()\n",
        "\n",
        "data_tas[\"Lines\"].append(lines_42)"
      ],
      "id": "42d1c51f",
      "execution_count": null,
      "outputs": []
    },
    {
      "cell_type": "code",
      "metadata": {
        "id": "3692dde1"
      },
      "source": [
        "#data_task= {\"Lines\": [], \"Value\": []}\n",
        "with open(txtfiles[42], encoding=\"utf8\") as f:\n",
        "    lines_43 = f.readlines()\n",
        "\n",
        "data_tas[\"Lines\"].append(lines_43)\n"
      ],
      "id": "3692dde1",
      "execution_count": null,
      "outputs": []
    },
    {
      "cell_type": "code",
      "metadata": {
        "id": "02dc8bfd"
      },
      "source": [
        "#data_task= {\"Lines\": [], \"Value\": []}\n",
        "with open(txtfiles[43], encoding=\"utf8\") as f:\n",
        "    lines_44 = f.readlines()\n",
        "\n",
        "data_tas[\"Lines\"].append(lines_44)"
      ],
      "id": "02dc8bfd",
      "execution_count": null,
      "outputs": []
    },
    {
      "cell_type": "code",
      "metadata": {
        "id": "18aea28f"
      },
      "source": [
        "#data_task= {\"Lines\": [], \"Value\": []}\n",
        "with open(txtfiles[44], encoding=\"utf8\") as f:\n",
        "    lines_45 = f.readlines()\n",
        "\n",
        "data_tas[\"Lines\"].append(lines_45)"
      ],
      "id": "18aea28f",
      "execution_count": null,
      "outputs": []
    },
    {
      "cell_type": "code",
      "metadata": {
        "id": "b98ff5cd"
      },
      "source": [
        "#data_task= {\"Lines\": [], \"Value\": []}\n",
        "with open(txtfiles[45], encoding=\"utf8\") as f:\n",
        "    lines_46 = f.readlines()\n",
        "\n",
        "data_tas[\"Lines\"].append(lines_46)"
      ],
      "id": "b98ff5cd",
      "execution_count": null,
      "outputs": []
    },
    {
      "cell_type": "code",
      "metadata": {
        "id": "4dac4ba6"
      },
      "source": [
        "#data_task= {\"Lines\": [], \"Value\": []}\n",
        "with open(txtfiles[46], encoding=\"utf8\") as f:\n",
        "    lines_47 = f.readlines()\n",
        "\n",
        "data_tas[\"Lines\"].append(lines_47)"
      ],
      "id": "4dac4ba6",
      "execution_count": null,
      "outputs": []
    },
    {
      "cell_type": "code",
      "metadata": {
        "id": "a2a69ed4"
      },
      "source": [
        "#data_task= {\"Lines\": [], \"Value\": []}\n",
        "with open(txtfiles[47], encoding=\"utf8\") as f:\n",
        "    lines_48 = f.readlines()\n",
        "\n",
        "data_tas[\"Lines\"].append(lines_48)"
      ],
      "id": "a2a69ed4",
      "execution_count": null,
      "outputs": []
    },
    {
      "cell_type": "code",
      "metadata": {
        "id": "2ebf6349"
      },
      "source": [
        "#data_task= {\"Lines\": [], \"Value\": []}\n",
        "with open(txtfiles[48], encoding=\"utf8\") as f:\n",
        "    lines_49 = f.readlines()\n",
        "\n",
        "data_tas[\"Lines\"].append(lines_49)"
      ],
      "id": "2ebf6349",
      "execution_count": null,
      "outputs": []
    },
    {
      "cell_type": "code",
      "metadata": {
        "id": "9e47e803"
      },
      "source": [
        "#data_task= {\"Lines\": [], \"Value\": []}\n",
        "with open(txtfiles[49], encoding=\"utf8\") as f:\n",
        "    lines_50 = f.readlines()\n",
        "\n",
        "data_tas[\"Lines\"].append(lines_50)"
      ],
      "id": "9e47e803",
      "execution_count": null,
      "outputs": []
    },
    {
      "cell_type": "code",
      "metadata": {
        "id": "602a3eed"
      },
      "source": [
        "#data_task= {\"Lines\": [], \"Value\": []}\n",
        "with open(txtfiles[50], encoding=\"utf8\") as f:\n",
        "    lines_51 = f.readlines()\n",
        "\n",
        "data_tas[\"Lines\"].append(lines_51)"
      ],
      "id": "602a3eed",
      "execution_count": null,
      "outputs": []
    },
    {
      "cell_type": "code",
      "metadata": {
        "id": "88caad52"
      },
      "source": [
        "#data_task= {\"Lines\": [], \"Value\": []}\n",
        "with open(txtfiles[51], encoding=\"utf8\") as f:\n",
        "    lines_52 = f.readlines()\n",
        "\n",
        "data_tas[\"Lines\"].append(lines_52)"
      ],
      "id": "88caad52",
      "execution_count": null,
      "outputs": []
    },
    {
      "cell_type": "code",
      "metadata": {
        "id": "5f58a2ec"
      },
      "source": [
        "#data_task= {\"Lines\": [], \"Value\": []}\n",
        "with open(txtfiles[52], encoding=\"utf8\") as f:\n",
        "    lines_53 = f.readlines()\n",
        "\n",
        "data_tas[\"Lines\"].append(lines_53)"
      ],
      "id": "5f58a2ec",
      "execution_count": null,
      "outputs": []
    },
    {
      "cell_type": "code",
      "metadata": {
        "id": "e892ee00"
      },
      "source": [
        "#data_task= {\"Lines\": [], \"Value\": []}\n",
        "with open(txtfiles[53], encoding=\"utf8\") as f:\n",
        "    lines_54 = f.readlines()\n",
        "\n",
        "data_tas[\"Lines\"].append(lines_54)"
      ],
      "id": "e892ee00",
      "execution_count": null,
      "outputs": []
    },
    {
      "cell_type": "code",
      "metadata": {
        "id": "23c560d2"
      },
      "source": [
        "#data_task= {\"Lines\": [], \"Value\": []}\n",
        "with open(txtfiles[54], encoding=\"utf8\") as f:\n",
        "    lines_55 = f.readlines()\n",
        "\n",
        "data_tas[\"Lines\"].append(lines_55)"
      ],
      "id": "23c560d2",
      "execution_count": null,
      "outputs": []
    },
    {
      "cell_type": "code",
      "metadata": {
        "id": "c2c8f11b"
      },
      "source": [
        "#data_task= {\"Lines\": [], \"Value\": []}\n",
        "with open(txtfiles[55], encoding=\"utf8\") as f:\n",
        "    lines_56 = f.readlines()\n",
        "\n",
        "data_tas[\"Lines\"].append(lines_56)"
      ],
      "id": "c2c8f11b",
      "execution_count": null,
      "outputs": []
    },
    {
      "cell_type": "code",
      "metadata": {
        "id": "174d4bec"
      },
      "source": [
        "#data_task= {\"Lines\": [], \"Value\": []}\n",
        "with open(txtfiles[56], encoding=\"utf8\") as f:\n",
        "    lines_57 = f.readlines()\n",
        "\n",
        "data_tas[\"Lines\"].append(lines_57)"
      ],
      "id": "174d4bec",
      "execution_count": null,
      "outputs": []
    },
    {
      "cell_type": "code",
      "metadata": {
        "id": "a1995c94"
      },
      "source": [
        "#data_task= {\"Lines\": [], \"Value\": []}\n",
        "with open(txtfiles[57], encoding=\"utf8\") as f:\n",
        "    lines_58 = f.readlines()\n",
        "\n",
        "data_tas[\"Lines\"].append(lines_58)"
      ],
      "id": "a1995c94",
      "execution_count": null,
      "outputs": []
    },
    {
      "cell_type": "code",
      "metadata": {
        "id": "6dd06154"
      },
      "source": [
        "#data_task= {\"Lines\": [], \"Value\": []}\n",
        "with open(txtfiles[58], encoding=\"utf8\") as f:\n",
        "    lines_59 = f.readlines()\n",
        "\n",
        "data_tas[\"Lines\"].append(lines_59)"
      ],
      "id": "6dd06154",
      "execution_count": null,
      "outputs": []
    },
    {
      "cell_type": "code",
      "metadata": {
        "id": "7b599875"
      },
      "source": [
        "#data_task= {\"Lines\": [], \"Value\": []}\n",
        "with open(txtfiles[59], encoding=\"utf8\") as f:\n",
        "    lines_60 = f.readlines()\n",
        "\n",
        "data_tas[\"Lines\"].append(lines_60)"
      ],
      "id": "7b599875",
      "execution_count": null,
      "outputs": []
    },
    {
      "cell_type": "code",
      "metadata": {
        "id": "85b02d92"
      },
      "source": [
        "#data_task= {\"Lines\": [], \"Value\": []}\n",
        "with open(txtfiles[60], encoding=\"utf8\") as f:\n",
        "    lines_61 = f.readlines()\n",
        "\n",
        "data_tas[\"Lines\"].append(lines_61)"
      ],
      "id": "85b02d92",
      "execution_count": null,
      "outputs": []
    },
    {
      "cell_type": "code",
      "metadata": {
        "id": "bde6324e"
      },
      "source": [
        "#data_task= {\"Lines\": [], \"Value\": []}\n",
        "with open(txtfiles[61], encoding=\"utf8\") as f:\n",
        "    lines_62 = f.readlines()\n",
        "\n",
        "data_tas[\"Lines\"].append(lines_62)"
      ],
      "id": "bde6324e",
      "execution_count": null,
      "outputs": []
    },
    {
      "cell_type": "code",
      "metadata": {
        "id": "edd5038f"
      },
      "source": [
        "#data_task= {\"Lines\": [], \"Value\": []}\n",
        "with open(txtfiles[62], encoding=\"utf8\") as f:\n",
        "    lines_63 = f.readlines()\n",
        "\n",
        "data_tas[\"Lines\"].append(lines_63)"
      ],
      "id": "edd5038f",
      "execution_count": null,
      "outputs": []
    },
    {
      "cell_type": "code",
      "metadata": {
        "id": "1a2bf0a1"
      },
      "source": [
        "#data_task= {\"Lines\": [], \"Value\": []}\n",
        "with open(txtfiles[63], encoding=\"utf8\") as f:\n",
        "    lines_64 = f.readlines()\n",
        "\n",
        "data_tas[\"Lines\"].append(lines_64)"
      ],
      "id": "1a2bf0a1",
      "execution_count": null,
      "outputs": []
    },
    {
      "cell_type": "code",
      "metadata": {
        "id": "5a33d979"
      },
      "source": [
        "#data_task= {\"Lines\": [], \"Value\": []}\n",
        "with open(txtfiles[64], encoding=\"utf8\") as f:\n",
        "    lines_65 = f.readlines()\n",
        "\n",
        "data_tas[\"Lines\"].append(lines_65)"
      ],
      "id": "5a33d979",
      "execution_count": null,
      "outputs": []
    },
    {
      "cell_type": "code",
      "metadata": {
        "id": "3ed9f227"
      },
      "source": [
        "#data_task= {\"Lines\": [], \"Value\": []}\n",
        "with open(txtfiles[65], encoding=\"utf8\") as f:\n",
        "    lines_66 = f.readlines()\n",
        "\n",
        "data_tas[\"Lines\"].append(lines_66)"
      ],
      "id": "3ed9f227",
      "execution_count": null,
      "outputs": []
    },
    {
      "cell_type": "code",
      "metadata": {
        "id": "9554bf59"
      },
      "source": [
        "#data_task= {\"Lines\": [], \"Value\": []}\n",
        "with open(txtfiles[66], encoding=\"utf8\") as f:\n",
        "    lines_67 = f.readlines()\n",
        "\n",
        "data_tas[\"Lines\"].append(lines_67)"
      ],
      "id": "9554bf59",
      "execution_count": null,
      "outputs": []
    },
    {
      "cell_type": "code",
      "metadata": {
        "id": "138edd08"
      },
      "source": [
        "#data_task= {\"Lines\": [], \"Value\": []}\n",
        "with open(txtfiles[67], encoding=\"utf8\") as f:\n",
        "    lines_68 = f.readlines()\n",
        "\n",
        "data_tas[\"Lines\"].append(lines_68)"
      ],
      "id": "138edd08",
      "execution_count": null,
      "outputs": []
    },
    {
      "cell_type": "code",
      "metadata": {
        "id": "b1e0dd10"
      },
      "source": [
        "#data_task= {\"Lines\": [], \"Value\": []}\n",
        "with open(txtfiles[68], encoding=\"utf8\") as f:\n",
        "    lines_69 = f.readlines()\n",
        "\n",
        "data_tas[\"Lines\"].append(lines_69)"
      ],
      "id": "b1e0dd10",
      "execution_count": null,
      "outputs": []
    },
    {
      "cell_type": "code",
      "metadata": {
        "id": "d09d6947"
      },
      "source": [
        "#data_task= {\"Lines\": [], \"Value\": []}\n",
        "with open(txtfiles[69], encoding=\"utf8\") as f:\n",
        "    lines_70 = f.readlines()\n",
        "\n",
        "data_tas[\"Lines\"].append(lines_70)"
      ],
      "id": "d09d6947",
      "execution_count": null,
      "outputs": []
    },
    {
      "cell_type": "code",
      "metadata": {
        "id": "5ee488fe"
      },
      "source": [
        "#data_task= {\"Lines\": [], \"Value\": []}\n",
        "with open(txtfiles[70], encoding=\"utf8\") as f:\n",
        "    lines_71 = f.readlines()\n",
        "\n",
        "data_tas[\"Lines\"].append(lines_71)"
      ],
      "id": "5ee488fe",
      "execution_count": null,
      "outputs": []
    },
    {
      "cell_type": "code",
      "metadata": {
        "id": "11d42807"
      },
      "source": [
        "#data_task= {\"Lines\": [], \"Value\": []}\n",
        "with open(txtfiles[71], encoding=\"utf8\") as f:\n",
        "    lines_72 = f.readlines()\n",
        "\n",
        "data_tas[\"Lines\"].append(lines_72)"
      ],
      "id": "11d42807",
      "execution_count": null,
      "outputs": []
    },
    {
      "cell_type": "code",
      "metadata": {
        "id": "fe6b54f9"
      },
      "source": [
        "#data_task= {\"Lines\": [], \"Value\": []}\n",
        "with open(txtfiles[72], encoding=\"utf8\") as f:\n",
        "    lines_73 = f.readlines()\n",
        "\n",
        "data_tas[\"Lines\"].append(lines_73)"
      ],
      "id": "fe6b54f9",
      "execution_count": null,
      "outputs": []
    },
    {
      "cell_type": "code",
      "metadata": {
        "id": "5c73ed7d"
      },
      "source": [
        "#data_task= {\"Lines\": [], \"Value\": []}\n",
        "with open(txtfiles[73], encoding=\"utf8\") as f:\n",
        "    lines_74 = f.readlines()\n",
        "\n",
        "data_tas[\"Lines\"].append(lines_74)"
      ],
      "id": "5c73ed7d",
      "execution_count": null,
      "outputs": []
    },
    {
      "cell_type": "code",
      "metadata": {
        "id": "40f2c75f"
      },
      "source": [
        "#data_task= {\"Lines\": [], \"Value\": []}\n",
        "with open(txtfiles[74], encoding=\"utf8\") as f:\n",
        "    lines_75 = f.readlines()\n",
        "\n",
        "data_tas[\"Lines\"].append(lines_75)"
      ],
      "id": "40f2c75f",
      "execution_count": null,
      "outputs": []
    },
    {
      "cell_type": "code",
      "metadata": {
        "id": "a125091e"
      },
      "source": [
        "#data_task= {\"Lines\": [], \"Value\": []}\n",
        "with open(txtfiles[75], encoding=\"utf8\") as f:\n",
        "    lines_76 = f.readlines()\n",
        "\n",
        "data_tas[\"Lines\"].append(lines_76)"
      ],
      "id": "a125091e",
      "execution_count": null,
      "outputs": []
    },
    {
      "cell_type": "code",
      "metadata": {
        "id": "5fc08267"
      },
      "source": [
        "#data_task= {\"Lines\": [], \"Value\": []}\n",
        "with open(txtfiles[76], encoding=\"utf8\") as f:\n",
        "    lines_77 = f.readlines()\n",
        "\n",
        "data_tas[\"Lines\"].append(lines_77)"
      ],
      "id": "5fc08267",
      "execution_count": null,
      "outputs": []
    },
    {
      "cell_type": "code",
      "metadata": {
        "id": "71c3a60b"
      },
      "source": [
        "#data_task= {\"Lines\": [], \"Value\": []}\n",
        "with open(txtfiles[77], encoding=\"utf8\") as f:\n",
        "    lines_78 = f.readlines()\n",
        "\n",
        "data_tas[\"Lines\"].append(lines_78)"
      ],
      "id": "71c3a60b",
      "execution_count": null,
      "outputs": []
    },
    {
      "cell_type": "code",
      "metadata": {
        "id": "bbf678b6"
      },
      "source": [
        "#data_task= {\"Lines\": [], \"Value\": []}\n",
        "with open(txtfiles[78], encoding=\"utf8\") as f:\n",
        "    lines_79 = f.readlines()\n",
        "\n",
        "data_tas[\"Lines\"].append(lines_79)"
      ],
      "id": "bbf678b6",
      "execution_count": null,
      "outputs": []
    },
    {
      "cell_type": "code",
      "metadata": {
        "id": "ae672d9d"
      },
      "source": [
        "#data_task= {\"Lines\": [], \"Value\": []}\n",
        "with open(txtfiles[79], encoding=\"utf8\") as f:\n",
        "    lines_80 = f.readlines()\n",
        "\n",
        "data_tas[\"Lines\"].append(lines_80)"
      ],
      "id": "ae672d9d",
      "execution_count": null,
      "outputs": []
    },
    {
      "cell_type": "code",
      "metadata": {
        "id": "a6a7c335"
      },
      "source": [
        "#data_task= {\"Lines\": [], \"Value\": []}\n",
        "with open(txtfiles[80], encoding=\"utf8\") as f:\n",
        "    lines_81 = f.readlines()\n",
        "\n",
        "data_tas[\"Lines\"].append(lines_81)"
      ],
      "id": "a6a7c335",
      "execution_count": null,
      "outputs": []
    },
    {
      "cell_type": "code",
      "metadata": {
        "id": "bcc96e2d"
      },
      "source": [
        "#data_task= {\"Lines\": [], \"Value\": []}\n",
        "with open(txtfiles[81], encoding=\"utf8\") as f:\n",
        "    lines_82 = f.readlines()\n",
        "\n",
        "data_tas[\"Lines\"].append(lines_82)"
      ],
      "id": "bcc96e2d",
      "execution_count": null,
      "outputs": []
    },
    {
      "cell_type": "code",
      "metadata": {
        "id": "d79590b5"
      },
      "source": [
        "with open(txtfiles[82], encoding=\"utf8\") as f:\n",
        "    lines_83 = f.readlines()\n",
        "\n",
        "data_tas[\"Lines\"].append(lines_83)"
      ],
      "id": "d79590b5",
      "execution_count": null,
      "outputs": []
    },
    {
      "cell_type": "code",
      "metadata": {
        "id": "03f44f38"
      },
      "source": [
        "with open(txtfiles[83], encoding=\"utf8\") as f:\n",
        "    lines_84 = f.readlines()\n",
        "\n",
        "data_tas[\"Lines\"].append(lines_84)"
      ],
      "id": "03f44f38",
      "execution_count": null,
      "outputs": []
    },
    {
      "cell_type": "code",
      "metadata": {
        "id": "be7ab6c6"
      },
      "source": [
        "with open(txtfiles[84], encoding=\"utf8\") as f:\n",
        "    lines_85 = f.readlines()\n",
        "\n",
        "data_tas[\"Lines\"].append(lines_85)"
      ],
      "id": "be7ab6c6",
      "execution_count": null,
      "outputs": []
    },
    {
      "cell_type": "code",
      "metadata": {
        "id": "021ccf19"
      },
      "source": [
        "data_task= {\"Lines\": [], \"Value\": []}\n",
        "with open(txtfiles[85], encoding=\"utf8\") as f:\n",
        "    lines_86 = f.readlines()\n",
        "\n",
        "data_tas[\"Lines\"].append(lines_86)"
      ],
      "id": "021ccf19",
      "execution_count": null,
      "outputs": []
    },
    {
      "cell_type": "code",
      "metadata": {
        "id": "867c9e2b"
      },
      "source": [
        "with open(txtfiles[86], encoding=\"utf8\") as f:\n",
        "    lines_87 = f.readlines()\n",
        "\n",
        "data_tas[\"Lines\"].append(lines_87)"
      ],
      "id": "867c9e2b",
      "execution_count": null,
      "outputs": []
    },
    {
      "cell_type": "code",
      "metadata": {
        "id": "cad7f31a"
      },
      "source": [
        "with open(txtfiles[87], encoding=\"utf8\") as f:\n",
        "    lines_88 = f.readlines()\n",
        "\n",
        "data_tas[\"Lines\"].append(lines_88)"
      ],
      "id": "cad7f31a",
      "execution_count": null,
      "outputs": []
    },
    {
      "cell_type": "code",
      "metadata": {
        "id": "ffdab5ed"
      },
      "source": [
        "with open(txtfiles[88], encoding=\"utf8\") as f:\n",
        "    lines_89 = f.readlines()\n",
        "\n",
        "data_tas[\"Lines\"].append(lines_89)"
      ],
      "id": "ffdab5ed",
      "execution_count": null,
      "outputs": []
    },
    {
      "cell_type": "code",
      "metadata": {
        "id": "325c5d5d"
      },
      "source": [
        "with open(txtfiles[89], encoding=\"utf8\") as f:\n",
        "    lines_90 = f.readlines()\n",
        "\n",
        "data_tas[\"Lines\"].append(lines_90)"
      ],
      "id": "325c5d5d",
      "execution_count": null,
      "outputs": []
    },
    {
      "cell_type": "code",
      "metadata": {
        "id": "773d1272"
      },
      "source": [
        "with open(txtfiles[90], encoding=\"utf8\") as f:\n",
        "    lines_91 = f.readlines()\n",
        "\n",
        "data_tas[\"Lines\"].append(lines_91)"
      ],
      "id": "773d1272",
      "execution_count": null,
      "outputs": []
    },
    {
      "cell_type": "code",
      "metadata": {
        "id": "79ece2a2"
      },
      "source": [
        "with open(txtfiles[91], encoding=\"utf8\") as f:\n",
        "    lines_92 = f.readlines()\n",
        "\n",
        "data_tas[\"Lines\"].append(lines_92)"
      ],
      "id": "79ece2a2",
      "execution_count": null,
      "outputs": []
    },
    {
      "cell_type": "code",
      "metadata": {
        "id": "14d0f6ac"
      },
      "source": [
        "with open(txtfiles[92], encoding=\"utf8\") as f:\n",
        "    lines_93 = f.readlines()\n",
        "\n",
        "data_tas[\"Lines\"].append(lines_93)"
      ],
      "id": "14d0f6ac",
      "execution_count": null,
      "outputs": []
    },
    {
      "cell_type": "code",
      "metadata": {
        "id": "fad0c83d"
      },
      "source": [
        "with open(txtfiles[93], encoding=\"utf8\") as f:\n",
        "    lines_94 = f.readlines()\n",
        "\n",
        "data_tas[\"Lines\"].append(lines_94)"
      ],
      "id": "fad0c83d",
      "execution_count": null,
      "outputs": []
    },
    {
      "cell_type": "code",
      "metadata": {
        "id": "f67baa5f"
      },
      "source": [
        "with open(txtfiles[94], encoding=\"utf8\") as f:\n",
        "    lines_95 = f.readlines()\n",
        "\n",
        "data_tas[\"Lines\"].append(lines_95)"
      ],
      "id": "f67baa5f",
      "execution_count": null,
      "outputs": []
    },
    {
      "cell_type": "code",
      "metadata": {
        "id": "0b66b820"
      },
      "source": [
        "with open(txtfiles[95], encoding=\"utf8\") as f:\n",
        "    lines_96 = f.readlines()\n",
        "\n",
        "data_tas[\"Lines\"].append(lines_96)"
      ],
      "id": "0b66b820",
      "execution_count": null,
      "outputs": []
    },
    {
      "cell_type": "code",
      "metadata": {
        "id": "3998c574"
      },
      "source": [
        "with open(txtfiles[96], encoding=\"utf8\") as f:\n",
        "    lines_97 = f.readlines()\n",
        "\n",
        "data_tas[\"Lines\"].append(lines_97)"
      ],
      "id": "3998c574",
      "execution_count": null,
      "outputs": []
    },
    {
      "cell_type": "code",
      "metadata": {
        "id": "e68017ed"
      },
      "source": [
        "with open(txtfiles[97], encoding=\"utf8\") as f:\n",
        "    lines_98 = f.readlines()\n",
        "\n",
        "data_tas[\"Lines\"].append(lines_98)"
      ],
      "id": "e68017ed",
      "execution_count": null,
      "outputs": []
    },
    {
      "cell_type": "code",
      "metadata": {
        "id": "e67def4c"
      },
      "source": [
        "with open(txtfiles[98], encoding=\"utf8\") as f:\n",
        "    lines_99 = f.readlines()\n",
        "\n",
        "data_tas[\"Lines\"].append(lines_99)"
      ],
      "id": "e67def4c",
      "execution_count": null,
      "outputs": []
    },
    {
      "cell_type": "code",
      "metadata": {
        "id": "fb0650d4"
      },
      "source": [
        "with open(txtfiles[99], encoding=\"utf8\") as f:\n",
        "    lines_100 = f.readlines()\n",
        "\n",
        "data_tas[\"Lines\"].append(lines_100)"
      ],
      "id": "fb0650d4",
      "execution_count": null,
      "outputs": []
    },
    {
      "cell_type": "code",
      "metadata": {
        "id": "12abd216"
      },
      "source": [
        "with open(txtfiles[100], encoding=\"utf8\") as f:\n",
        "    lines_101 = f.readlines()\n",
        "\n",
        "data_tas[\"Lines\"].append(lines_101)"
      ],
      "id": "12abd216",
      "execution_count": null,
      "outputs": []
    },
    {
      "cell_type": "code",
      "metadata": {
        "id": "32e09d67"
      },
      "source": [
        "with open(txtfiles[101], encoding=\"utf8\") as f:\n",
        "    lines_102 = f.readlines()\n",
        "\n",
        "data_tas[\"Lines\"].append(lines_102)"
      ],
      "id": "32e09d67",
      "execution_count": null,
      "outputs": []
    },
    {
      "cell_type": "code",
      "metadata": {
        "id": "4da91ce0"
      },
      "source": [
        "with open(txtfiles[102], encoding=\"utf8\") as f:\n",
        "    lines_103 = f.readlines()\n",
        "\n",
        "data_tas[\"Lines\"].append(lines_103)"
      ],
      "id": "4da91ce0",
      "execution_count": null,
      "outputs": []
    },
    {
      "cell_type": "code",
      "metadata": {
        "id": "889f6aea"
      },
      "source": [
        "with open(txtfiles[103], encoding=\"utf8\") as f:\n",
        "    lines_104 = f.readlines()\n",
        "\n",
        "data_tas[\"Lines\"].append(lines_104)"
      ],
      "id": "889f6aea",
      "execution_count": null,
      "outputs": []
    },
    {
      "cell_type": "code",
      "metadata": {
        "id": "52bd2d7e"
      },
      "source": [
        "with open(txtfiles[104], encoding=\"utf8\") as f:\n",
        "    lines_105 = f.readlines()\n",
        "\n",
        "data_tas[\"Lines\"].append(lines_105)"
      ],
      "id": "52bd2d7e",
      "execution_count": null,
      "outputs": []
    },
    {
      "cell_type": "code",
      "metadata": {
        "id": "6209de2d"
      },
      "source": [
        "with open(txtfiles[105], encoding=\"utf8\") as f:\n",
        "    lines_106 = f.readlines()\n",
        "\n",
        "data_tas[\"Lines\"].append(lines_106)"
      ],
      "id": "6209de2d",
      "execution_count": null,
      "outputs": []
    },
    {
      "cell_type": "code",
      "metadata": {
        "id": "7cee86bb"
      },
      "source": [
        "with open(txtfiles[106], encoding=\"utf8\") as f:\n",
        "    lines_107 = f.readlines()\n",
        "\n",
        "data_tas[\"Lines\"].append(lines_107)"
      ],
      "id": "7cee86bb",
      "execution_count": null,
      "outputs": []
    },
    {
      "cell_type": "code",
      "metadata": {
        "id": "a1eaf2d2"
      },
      "source": [
        "with open(txtfiles[107], encoding=\"utf8\") as f:\n",
        "    lines_108 = f.readlines()\n",
        "\n",
        "data_tas[\"Lines\"].append(lines_108)"
      ],
      "id": "a1eaf2d2",
      "execution_count": null,
      "outputs": []
    },
    {
      "cell_type": "code",
      "metadata": {
        "id": "98e57d2a"
      },
      "source": [
        "with open(txtfiles[108], encoding=\"utf8\") as f:\n",
        "    lines_109 = f.readlines()\n",
        "\n",
        "data_tas[\"Lines\"].append(lines_109)"
      ],
      "id": "98e57d2a",
      "execution_count": null,
      "outputs": []
    },
    {
      "cell_type": "code",
      "metadata": {
        "id": "c83e704b"
      },
      "source": [
        "with open(txtfiles[109], encoding=\"utf8\") as f:\n",
        "    lines_110 = f.readlines()\n",
        "\n",
        "data_tas[\"Lines\"].append(lines_110)"
      ],
      "id": "c83e704b",
      "execution_count": null,
      "outputs": []
    },
    {
      "cell_type": "code",
      "metadata": {
        "id": "1f91d48b"
      },
      "source": [
        "with open(txtfiles[110], encoding=\"utf8\") as f:\n",
        "    lines_111 = f.readlines()\n",
        "\n",
        "data_tas[\"Lines\"].append(lines_111)"
      ],
      "id": "1f91d48b",
      "execution_count": null,
      "outputs": []
    },
    {
      "cell_type": "code",
      "metadata": {
        "id": "11e67641"
      },
      "source": [
        "with open(txtfiles[111], encoding=\"utf8\") as f:\n",
        "    lines_112 = f.readlines()\n",
        "\n",
        "data_tas[\"Lines\"].append(lines_112)"
      ],
      "id": "11e67641",
      "execution_count": null,
      "outputs": []
    },
    {
      "cell_type": "code",
      "metadata": {
        "id": "bc855c83"
      },
      "source": [
        "with open(txtfiles[112], encoding=\"utf8\") as f:\n",
        "    lines_113 = f.readlines()\n",
        "\n",
        "data_tas[\"Lines\"].append(lines_113)"
      ],
      "id": "bc855c83",
      "execution_count": null,
      "outputs": []
    },
    {
      "cell_type": "code",
      "metadata": {
        "id": "bba8cc81"
      },
      "source": [
        "with open(txtfiles[113], encoding=\"utf8\") as f:\n",
        "    lines_114 = f.readlines()\n",
        "\n",
        "data_tas[\"Lines\"].append(lines_114)"
      ],
      "id": "bba8cc81",
      "execution_count": null,
      "outputs": []
    },
    {
      "cell_type": "code",
      "metadata": {
        "id": "f20ac741"
      },
      "source": [
        "with open(txtfiles[114], encoding=\"utf8\") as f:\n",
        "    lines_115 = f.readlines()\n",
        "\n",
        "data_tas[\"Lines\"].append(lines_115)"
      ],
      "id": "f20ac741",
      "execution_count": null,
      "outputs": []
    },
    {
      "cell_type": "code",
      "metadata": {
        "id": "491cf13a"
      },
      "source": [
        "with open(txtfiles[115], encoding=\"utf8\") as f:\n",
        "    lines_116 = f.readlines()\n",
        "\n",
        "data_tas[\"Lines\"].append(lines_116)"
      ],
      "id": "491cf13a",
      "execution_count": null,
      "outputs": []
    },
    {
      "cell_type": "code",
      "metadata": {
        "id": "619269d6"
      },
      "source": [
        "with open(txtfiles[116], encoding=\"utf8\") as f:\n",
        "    lines_117 = f.readlines()\n",
        "\n",
        "data_tas[\"Lines\"].append(lines_117)"
      ],
      "id": "619269d6",
      "execution_count": null,
      "outputs": []
    },
    {
      "cell_type": "code",
      "metadata": {
        "id": "b60be577"
      },
      "source": [
        "with open(txtfiles[117], encoding=\"utf8\") as f:\n",
        "    lines_118 = f.readlines()\n",
        "\n",
        "data_tas[\"Lines\"].append(lines_118)"
      ],
      "id": "b60be577",
      "execution_count": null,
      "outputs": []
    },
    {
      "cell_type": "code",
      "metadata": {
        "id": "1ea0d8ba"
      },
      "source": [
        "with open(txtfiles[118], encoding=\"utf8\") as f:\n",
        "    lines_119 = f.readlines()\n",
        "\n",
        "data_tas[\"Lines\"].append(lines_119)"
      ],
      "id": "1ea0d8ba",
      "execution_count": null,
      "outputs": []
    },
    {
      "cell_type": "code",
      "metadata": {
        "id": "b0ef62dd"
      },
      "source": [
        "with open(txtfiles[119], encoding=\"utf8\") as f:\n",
        "    lines_120 = f.readlines()\n",
        "\n",
        "data_tas[\"Lines\"].append(lines_120)"
      ],
      "id": "b0ef62dd",
      "execution_count": null,
      "outputs": []
    },
    {
      "cell_type": "code",
      "metadata": {
        "id": "72eb238f"
      },
      "source": [
        "with open(txtfiles[120], encoding=\"utf8\") as f:   \n",
        "    lines_121 = f.readlines()\n",
        "\n",
        "data_tas[\"Lines\"].append(lines_121)"
      ],
      "id": "72eb238f",
      "execution_count": null,
      "outputs": []
    },
    {
      "cell_type": "code",
      "metadata": {
        "id": "e2209d1b"
      },
      "source": [
        "with open(txtfiles[121], encoding=\"utf8\") as f:\n",
        "    lines_122 = f.readlines()\n",
        "\n",
        "data_tas[\"Lines\"].append(lines_122)"
      ],
      "id": "e2209d1b",
      "execution_count": null,
      "outputs": []
    },
    {
      "cell_type": "code",
      "metadata": {
        "id": "4df3fae3"
      },
      "source": [
        "with open(txtfiles[122], encoding=\"utf8\") as f:\n",
        "    lines_123 = f.readlines()\n",
        "\n",
        "data_tas[\"Lines\"].append(lines_123)"
      ],
      "id": "4df3fae3",
      "execution_count": null,
      "outputs": []
    },
    {
      "cell_type": "code",
      "metadata": {
        "id": "a6b6f080"
      },
      "source": [
        "with open(txtfiles[123], encoding=\"utf8\") as f:\n",
        "    lines_124 = f.readlines()\n",
        "\n",
        "data_tas[\"Lines\"].append(lines_124)"
      ],
      "id": "a6b6f080",
      "execution_count": null,
      "outputs": []
    },
    {
      "cell_type": "code",
      "metadata": {
        "id": "eb81a4ae"
      },
      "source": [
        "with open(txtfiles[124], encoding=\"utf8\") as f:\n",
        "    lines_125 = f.readlines()\n",
        "\n",
        "data_tas[\"Lines\"].append(lines_125)"
      ],
      "id": "eb81a4ae",
      "execution_count": null,
      "outputs": []
    },
    {
      "cell_type": "code",
      "metadata": {
        "id": "10617102"
      },
      "source": [
        "with open(txtfiles[125], encoding=\"utf8\") as f:\n",
        "    lines_126 = f.readlines()\n",
        "\n",
        "data_tas[\"Lines\"].append(lines_126)"
      ],
      "id": "10617102",
      "execution_count": null,
      "outputs": []
    },
    {
      "cell_type": "code",
      "metadata": {
        "id": "40c72c92"
      },
      "source": [
        "with open(txtfiles[126], encoding=\"utf8\") as f:\n",
        "    lines_127 = f.readlines()\n",
        "\n",
        "data_tas[\"Lines\"].append(lines_127)"
      ],
      "id": "40c72c92",
      "execution_count": null,
      "outputs": []
    },
    {
      "cell_type": "code",
      "metadata": {
        "id": "83eb5643"
      },
      "source": [
        "with open(txtfiles[127], encoding=\"utf8\") as f:\n",
        "    lines_128 = f.readlines()\n",
        "\n",
        "data_tas[\"Lines\"].append(lines_128)"
      ],
      "id": "83eb5643",
      "execution_count": null,
      "outputs": []
    },
    {
      "cell_type": "code",
      "metadata": {
        "id": "87331388"
      },
      "source": [
        "with open(txtfiles[128], encoding=\"utf8\") as f:\n",
        "    lines_129 = f.readlines()\n",
        "\n",
        "data_tas[\"Lines\"].append(lines_129)"
      ],
      "id": "87331388",
      "execution_count": null,
      "outputs": []
    },
    {
      "cell_type": "code",
      "metadata": {
        "id": "43d7d863"
      },
      "source": [
        "with open(txtfiles[129], encoding=\"utf8\") as f:\n",
        "    lines_130 = f.readlines()\n",
        "\n",
        "data_tas[\"Lines\"].append(lines_130)"
      ],
      "id": "43d7d863",
      "execution_count": null,
      "outputs": []
    },
    {
      "cell_type": "code",
      "metadata": {
        "id": "01db279f"
      },
      "source": [
        "with open(txtfiles[130], encoding=\"utf8\") as f:\n",
        "    lines_131 = f.readlines()\n",
        "\n",
        "data_tas[\"Lines\"].append(lines_131)"
      ],
      "id": "01db279f",
      "execution_count": null,
      "outputs": []
    },
    {
      "cell_type": "code",
      "metadata": {
        "id": "bd7428ab"
      },
      "source": [
        "with open(txtfiles[131], encoding=\"utf8\") as f:\n",
        "    lines_132 = f.readlines()\n",
        "\n",
        "data_tas[\"Lines\"].append(lines_132)"
      ],
      "id": "bd7428ab",
      "execution_count": null,
      "outputs": []
    },
    {
      "cell_type": "code",
      "metadata": {
        "id": "a89f87ed"
      },
      "source": [
        "with open(txtfiles[132], encoding=\"utf8\") as f:\n",
        "    lines_133 = f.readlines()\n",
        "\n",
        "data_tas[\"Lines\"].append(lines_133)"
      ],
      "id": "a89f87ed",
      "execution_count": null,
      "outputs": []
    },
    {
      "cell_type": "code",
      "metadata": {
        "id": "9b7fc885"
      },
      "source": [
        "with open(txtfiles[133], encoding=\"utf8\") as f:\n",
        "    lines_134 = f.readlines()\n",
        "\n",
        "data_tas[\"Lines\"].append(lines_134)"
      ],
      "id": "9b7fc885",
      "execution_count": null,
      "outputs": []
    },
    {
      "cell_type": "code",
      "metadata": {
        "id": "8283fb9a"
      },
      "source": [
        "with open(txtfiles[134], encoding=\"utf8\") as f:\n",
        "    lines_135 = f.readlines()\n",
        "\n",
        "data_tas[\"Lines\"].append(lines_135)"
      ],
      "id": "8283fb9a",
      "execution_count": null,
      "outputs": []
    },
    {
      "cell_type": "code",
      "metadata": {
        "id": "5cdca3fd"
      },
      "source": [
        "with open(txtfiles[135], encoding=\"utf8\") as f:\n",
        "    lines_136 = f.readlines()\n",
        "\n",
        "data_tas[\"Lines\"].append(lines_136)"
      ],
      "id": "5cdca3fd",
      "execution_count": null,
      "outputs": []
    },
    {
      "cell_type": "code",
      "metadata": {
        "id": "0eb2a2e6"
      },
      "source": [
        "\n",
        "\n",
        "with open(txtfiles[136], encoding=\"utf8\") as f:\n",
        "    lines_137 = f.readlines()\n",
        "\n",
        "data_tas[\"Lines\"].append(lines_137)"
      ],
      "id": "0eb2a2e6",
      "execution_count": null,
      "outputs": []
    },
    {
      "cell_type": "code",
      "metadata": {
        "id": "c0cbfa96"
      },
      "source": [
        "with open(txtfiles[137], encoding=\"utf8\") as f:\n",
        "    lines_138 = f.readlines()\n",
        "\n",
        "data_tas[\"Lines\"].append(lines_138)"
      ],
      "id": "c0cbfa96",
      "execution_count": null,
      "outputs": []
    },
    {
      "cell_type": "code",
      "metadata": {
        "id": "a31fcb64"
      },
      "source": [
        "with open(txtfiles[138], encoding=\"utf8\") as f:\n",
        "    lines_139 = f.readlines()\n",
        "\n",
        "data_tas[\"Lines\"].append(lines_139)"
      ],
      "id": "a31fcb64",
      "execution_count": null,
      "outputs": []
    },
    {
      "cell_type": "code",
      "metadata": {
        "id": "4bb29a83"
      },
      "source": [
        ""
      ],
      "id": "4bb29a83",
      "execution_count": null,
      "outputs": []
    },
    {
      "cell_type": "code",
      "metadata": {
        "id": "9f63945b"
      },
      "source": [
        "with open(txtfiles[139], encoding=\"utf8\") as f:\n",
        "    lines_140 = f.readlines()\n",
        "\n",
        "data_tas[\"Lines\"].append(lines_140)"
      ],
      "id": "9f63945b",
      "execution_count": null,
      "outputs": []
    },
    {
      "cell_type": "code",
      "metadata": {
        "id": "d7e4a4c5"
      },
      "source": [
        "with open(txtfiles[140], encoding=\"utf8\") as f:\n",
        "    lines_141 = f.readlines()\n",
        "\n",
        "data_tas[\"Lines\"].append(lines_141)"
      ],
      "id": "d7e4a4c5",
      "execution_count": null,
      "outputs": []
    },
    {
      "cell_type": "code",
      "metadata": {
        "id": "667cbeec"
      },
      "source": [
        "with open(txtfiles[141], encoding=\"utf8\") as f:\n",
        "    lines_142 = f.readlines()\n",
        "\n",
        "data_tas[\"Lines\"].append(lines_142)"
      ],
      "id": "667cbeec",
      "execution_count": null,
      "outputs": []
    },
    {
      "cell_type": "code",
      "metadata": {
        "id": "6c2f43d8"
      },
      "source": [
        "with open(txtfiles[142], encoding=\"utf8\") as f:\n",
        "    lines_143 = f.readlines()\n",
        "\n",
        "data_tas[\"Lines\"].append(lines_143)"
      ],
      "id": "6c2f43d8",
      "execution_count": null,
      "outputs": []
    },
    {
      "cell_type": "code",
      "metadata": {
        "id": "67243a64"
      },
      "source": [
        "with open(txtfiles[143], encoding=\"utf8\") as f:\n",
        "    lines_144 = f.readlines()\n",
        "\n",
        "data_tas[\"Lines\"].append(lines_144)"
      ],
      "id": "67243a64",
      "execution_count": null,
      "outputs": []
    },
    {
      "cell_type": "code",
      "metadata": {
        "id": "8032c5dc"
      },
      "source": [
        "with open(txtfiles[144], encoding=\"utf8\") as f:\n",
        "    lines_145 = f.readlines()\n",
        "\n",
        "data_tas[\"Lines\"].append(lines_145)"
      ],
      "id": "8032c5dc",
      "execution_count": null,
      "outputs": []
    },
    {
      "cell_type": "code",
      "metadata": {
        "id": "57464c4e"
      },
      "source": [
        "with open(txtfiles[145], encoding=\"utf8\") as f:\n",
        "    lines_146 = f.readlines()\n",
        "\n",
        "data_tas[\"Lines\"].append(lines_146)"
      ],
      "id": "57464c4e",
      "execution_count": null,
      "outputs": []
    },
    {
      "cell_type": "code",
      "metadata": {
        "id": "fabbca79"
      },
      "source": [
        "with open(txtfiles[146], encoding=\"utf8\") as f:\n",
        "    lines_147 = f.readlines()\n",
        "\n",
        "data_tas[\"Lines\"].append(lines_147)"
      ],
      "id": "fabbca79",
      "execution_count": null,
      "outputs": []
    },
    {
      "cell_type": "code",
      "metadata": {
        "id": "8ff6f55e"
      },
      "source": [
        "with open(txtfiles[147], encoding=\"utf8\") as f:\n",
        "    lines_148 = f.readlines()\n",
        "\n",
        "data_tas[\"Lines\"].append(lines_148)"
      ],
      "id": "8ff6f55e",
      "execution_count": null,
      "outputs": []
    },
    {
      "cell_type": "code",
      "metadata": {
        "id": "7fd054a7"
      },
      "source": [
        "with open(txtfiles[148], encoding=\"utf8\") as f:\n",
        "    lines_149 = f.readlines()\n",
        "\n",
        "data_tas[\"Lines\"].append(lines_149)"
      ],
      "id": "7fd054a7",
      "execution_count": null,
      "outputs": []
    },
    {
      "cell_type": "code",
      "metadata": {
        "id": "229d52e7"
      },
      "source": [
        "with open(txtfiles[149], encoding=\"utf8\") as f:\n",
        "    lines_150 = f.readlines()\n",
        "\n",
        "data_tas[\"Lines\"].append(lines_150)"
      ],
      "id": "229d52e7",
      "execution_count": null,
      "outputs": []
    },
    {
      "cell_type": "code",
      "metadata": {
        "id": "6b60a56b"
      },
      "source": [
        "with open(txtfiles[150], encoding=\"utf8\") as f:\n",
        "    lines_151 = f.readlines()\n",
        "\n",
        "data_tas[\"Lines\"].append(lines_151)"
      ],
      "id": "6b60a56b",
      "execution_count": null,
      "outputs": []
    },
    {
      "cell_type": "code",
      "metadata": {
        "id": "d5ed0b8c"
      },
      "source": [
        "with open(txtfiles[151], encoding=\"utf8\") as f:\n",
        "    lines_152 = f.readlines()\n",
        "\n",
        "data_tas[\"Lines\"].append(lines_152)"
      ],
      "id": "d5ed0b8c",
      "execution_count": null,
      "outputs": []
    },
    {
      "cell_type": "code",
      "metadata": {
        "id": "16804594"
      },
      "source": [
        "with open(txtfiles[152], encoding=\"utf8\") as f:\n",
        "    lines_153 = f.readlines()\n",
        "\n",
        "data_tas[\"Lines\"].append(lines_153)"
      ],
      "id": "16804594",
      "execution_count": null,
      "outputs": []
    },
    {
      "cell_type": "code",
      "metadata": {
        "id": "807e2c68"
      },
      "source": [
        "with open(txtfiles[153], encoding=\"utf8\") as f:\n",
        "    lines_154 = f.readlines()\n",
        "\n",
        "data_tas[\"Lines\"].append(lines_154)"
      ],
      "id": "807e2c68",
      "execution_count": null,
      "outputs": []
    },
    {
      "cell_type": "code",
      "metadata": {
        "id": "fc971591"
      },
      "source": [
        "with open(txtfiles[154], encoding=\"utf8\") as f:\n",
        "    lines_155 = f.readlines()\n",
        "\n",
        "data_tas[\"Lines\"].append(lines_155)"
      ],
      "id": "fc971591",
      "execution_count": null,
      "outputs": []
    },
    {
      "cell_type": "code",
      "metadata": {
        "id": "d54ab177"
      },
      "source": [
        "with open(txtfiles[155], encoding=\"utf8\") as f:\n",
        "    lines_156 = f.readlines()\n",
        "\n",
        "data_tas[\"Lines\"].append(lines_156)"
      ],
      "id": "d54ab177",
      "execution_count": null,
      "outputs": []
    },
    {
      "cell_type": "code",
      "metadata": {
        "id": "9688c59b"
      },
      "source": [
        "with open(txtfiles[156], encoding=\"utf8\") as f:\n",
        "    lines_157 = f.readlines()\n",
        "\n",
        "data_tas[\"Lines\"].append(lines_157)"
      ],
      "id": "9688c59b",
      "execution_count": null,
      "outputs": []
    },
    {
      "cell_type": "code",
      "metadata": {
        "id": "8f7f58ab"
      },
      "source": [
        "with open(txtfiles[157], encoding=\"utf8\") as f:\n",
        "    lines_158 = f.readlines()\n",
        "\n",
        "data_tas[\"Lines\"].append(lines_158)"
      ],
      "id": "8f7f58ab",
      "execution_count": null,
      "outputs": []
    },
    {
      "cell_type": "code",
      "metadata": {
        "id": "01f71014"
      },
      "source": [
        "with open(txtfiles[158], encoding=\"utf8\") as f:\n",
        "    lines_159 = f.readlines()\n",
        "\n",
        "data_tas[\"Lines\"].append(lines_159)"
      ],
      "id": "01f71014",
      "execution_count": null,
      "outputs": []
    },
    {
      "cell_type": "code",
      "metadata": {
        "id": "c0408d6f"
      },
      "source": [
        "with open(txtfiles[159], encoding=\"utf8\") as f:\n",
        "    lines_160 = f.readlines()\n",
        "\n",
        "data_tas[\"Lines\"].append(lines_160)"
      ],
      "id": "c0408d6f",
      "execution_count": null,
      "outputs": []
    },
    {
      "cell_type": "code",
      "metadata": {
        "id": "f5f3a355"
      },
      "source": [
        ""
      ],
      "id": "f5f3a355",
      "execution_count": null,
      "outputs": []
    },
    {
      "cell_type": "code",
      "metadata": {
        "colab": {
          "base_uri": "https://localhost:8080/",
          "height": 424
        },
        "id": "68e34489",
        "outputId": "921bcc8f-cfdc-4015-d12e-0eaf5e6442c7"
      },
      "source": [
        "datad = pd.DataFrame(data_tas)\n",
        "datad"
      ],
      "id": "68e34489",
      "execution_count": null,
      "outputs": [
        {
          "output_type": "execute_result",
          "data": {
            "text/html": [
              "<div>\n",
              "<style scoped>\n",
              "    .dataframe tbody tr th:only-of-type {\n",
              "        vertical-align: middle;\n",
              "    }\n",
              "\n",
              "    .dataframe tbody tr th {\n",
              "        vertical-align: top;\n",
              "    }\n",
              "\n",
              "    .dataframe thead th {\n",
              "        text-align: right;\n",
              "    }\n",
              "</style>\n",
              "<table border=\"1\" class=\"dataframe\">\n",
              "  <thead>\n",
              "    <tr style=\"text-align: right;\">\n",
              "      <th></th>\n",
              "      <th>Lines</th>\n",
              "    </tr>\n",
              "  </thead>\n",
              "  <tbody>\n",
              "    <tr>\n",
              "      <th>0</th>\n",
              "      <td>[Skip to main content Advertisement Search Exp...</td>\n",
              "    </tr>\n",
              "    <tr>\n",
              "      <th>1</th>\n",
              "      <td>[mis Search OAE Journals Search in all OAE Jou...</td>\n",
              "    </tr>\n",
              "    <tr>\n",
              "      <th>2</th>\n",
              "      <td>[Close Set Your Location to See Relevant Infor...</td>\n",
              "    </tr>\n",
              "    <tr>\n",
              "      <th>3</th>\n",
              "      <td>[Close Set Your Location to See Relevant Infor...</td>\n",
              "    </tr>\n",
              "    <tr>\n",
              "      <th>4</th>\n",
              "      <td>[View COVID-19 vaccine FAQs, facility &amp; servic...</td>\n",
              "    </tr>\n",
              "    <tr>\n",
              "      <th>...</th>\n",
              "      <td>...</td>\n",
              "    </tr>\n",
              "    <tr>\n",
              "      <th>155</th>\n",
              "      <td>[Our website uses cookies. Please review our p...</td>\n",
              "    </tr>\n",
              "    <tr>\n",
              "      <th>156</th>\n",
              "      <td>[Contact Emergency1066 Apollo lifeline1860-500...</td>\n",
              "    </tr>\n",
              "    <tr>\n",
              "      <th>157</th>\n",
              "      <td>[× Important information about novel coronavir...</td>\n",
              "    </tr>\n",
              "    <tr>\n",
              "      <th>158</th>\n",
              "      <td>[General Line +603-7491 9191 Ambulance +6019-3...</td>\n",
              "    </tr>\n",
              "    <tr>\n",
              "      <th>159</th>\n",
              "      <td>[Your browser does not support inline frames o...</td>\n",
              "    </tr>\n",
              "  </tbody>\n",
              "</table>\n",
              "<p>160 rows × 1 columns</p>\n",
              "</div>"
            ],
            "text/plain": [
              "                                                 Lines\n",
              "0    [Skip to main content Advertisement Search Exp...\n",
              "1    [mis Search OAE Journals Search in all OAE Jou...\n",
              "2    [Close Set Your Location to See Relevant Infor...\n",
              "3    [Close Set Your Location to See Relevant Infor...\n",
              "4    [View COVID-19 vaccine FAQs, facility & servic...\n",
              "..                                                 ...\n",
              "155  [Our website uses cookies. Please review our p...\n",
              "156  [Contact Emergency1066 Apollo lifeline1860-500...\n",
              "157  [× Important information about novel coronavir...\n",
              "158  [General Line +603-7491 9191 Ambulance +6019-3...\n",
              "159  [Your browser does not support inline frames o...\n",
              "\n",
              "[160 rows x 1 columns]"
            ]
          },
          "metadata": {},
          "execution_count": 167
        }
      ]
    },
    {
      "cell_type": "code",
      "metadata": {
        "id": "c45a02ec"
      },
      "source": [
        "upd_data = pd.read_excel(\"/content/drive/MyDrive/finalresults (1).xlsx\")\n",
        "upd_data.drop(\"Unnamed: 0\", axis = 1, inplace = True)\n"
      ],
      "id": "c45a02ec",
      "execution_count": null,
      "outputs": []
    },
    {
      "cell_type": "code",
      "metadata": {
        "colab": {
          "base_uri": "https://localhost:8080/"
        },
        "id": "9c59062d",
        "outputId": "b6912231-de67-4d49-f4ba-84a3123c80b8"
      },
      "source": [
        "new = upd_data[39:]\n",
        "new.values\n",
        "data = {\"Value\":new.values}\n",
        "data['Value'] = data['Value'][0]\n",
        "data"
      ],
      "id": "9c59062d",
      "execution_count": null,
      "outputs": [
        {
          "output_type": "execute_result",
          "data": {
            "text/plain": [
              "{'Value': array([20, 22, 23, 15, 19, 22, 26, 19, 18, 22, 15, 23, 17, 18, 17, 21, 12,\n",
              "        7, 16, 17, 11, 15, 15, 13, 21, 22, 16, 23, 20, 23, 10, 12, 22, 21,\n",
              "        17, 8, 16, 16, 12, 14, 19, 24, 23, 22, 23, 21, 21, 15, 24, 21, 26,\n",
              "        18, 24, 22, 21, 21, 22, 11, 26, 22, 25, 25, 23, 26, 21, 16, 15, 20,\n",
              "        22, 21, 22, 18, 23, 17, 19, 22, 22, 21, 24, 21, 21, 21, 23, 23, 23,\n",
              "        15, 22, 20, 24, 25, 22, 15, 20, 21, 21, 21, 21, 22, 22, 14, 24, 23,\n",
              "        21, 20, 20, 22, 24, 21, 20, 20, 22, 19, 22, 21, 21, 22, 22, 20, 21,\n",
              "        16, 19, 19, 27, 20, 15, 20, 19, 22, 21, 21, 21, 22, 18, 18, 23, 11,\n",
              "        23, 17, 22, 21, 18, 21, 13, 17, 20, 25, 24, 26, 21, 19, 18, 19, 23,\n",
              "        16, 13, 21, 20, 22, 15, 15], dtype=object)}"
            ]
          },
          "metadata": {},
          "execution_count": 169
        }
      ]
    },
    {
      "cell_type": "code",
      "metadata": {
        "id": "752711ba"
      },
      "source": [
        "data_value = pd.DataFrame(data)"
      ],
      "id": "752711ba",
      "execution_count": null,
      "outputs": []
    },
    {
      "cell_type": "code",
      "metadata": {
        "colab": {
          "base_uri": "https://localhost:8080/",
          "height": 424
        },
        "id": "78df2a06",
        "outputId": "43f7c804-3957-45fc-a130-29fa90678983"
      },
      "source": [
        "data_value"
      ],
      "id": "78df2a06",
      "execution_count": null,
      "outputs": [
        {
          "output_type": "execute_result",
          "data": {
            "text/html": [
              "<div>\n",
              "<style scoped>\n",
              "    .dataframe tbody tr th:only-of-type {\n",
              "        vertical-align: middle;\n",
              "    }\n",
              "\n",
              "    .dataframe tbody tr th {\n",
              "        vertical-align: top;\n",
              "    }\n",
              "\n",
              "    .dataframe thead th {\n",
              "        text-align: right;\n",
              "    }\n",
              "</style>\n",
              "<table border=\"1\" class=\"dataframe\">\n",
              "  <thead>\n",
              "    <tr style=\"text-align: right;\">\n",
              "      <th></th>\n",
              "      <th>Value</th>\n",
              "    </tr>\n",
              "  </thead>\n",
              "  <tbody>\n",
              "    <tr>\n",
              "      <th>0</th>\n",
              "      <td>20</td>\n",
              "    </tr>\n",
              "    <tr>\n",
              "      <th>1</th>\n",
              "      <td>22</td>\n",
              "    </tr>\n",
              "    <tr>\n",
              "      <th>2</th>\n",
              "      <td>23</td>\n",
              "    </tr>\n",
              "    <tr>\n",
              "      <th>3</th>\n",
              "      <td>15</td>\n",
              "    </tr>\n",
              "    <tr>\n",
              "      <th>4</th>\n",
              "      <td>19</td>\n",
              "    </tr>\n",
              "    <tr>\n",
              "      <th>...</th>\n",
              "      <td>...</td>\n",
              "    </tr>\n",
              "    <tr>\n",
              "      <th>155</th>\n",
              "      <td>21</td>\n",
              "    </tr>\n",
              "    <tr>\n",
              "      <th>156</th>\n",
              "      <td>20</td>\n",
              "    </tr>\n",
              "    <tr>\n",
              "      <th>157</th>\n",
              "      <td>22</td>\n",
              "    </tr>\n",
              "    <tr>\n",
              "      <th>158</th>\n",
              "      <td>15</td>\n",
              "    </tr>\n",
              "    <tr>\n",
              "      <th>159</th>\n",
              "      <td>15</td>\n",
              "    </tr>\n",
              "  </tbody>\n",
              "</table>\n",
              "<p>160 rows × 1 columns</p>\n",
              "</div>"
            ],
            "text/plain": [
              "    Value\n",
              "0      20\n",
              "1      22\n",
              "2      23\n",
              "3      15\n",
              "4      19\n",
              "..    ...\n",
              "155    21\n",
              "156    20\n",
              "157    22\n",
              "158    15\n",
              "159    15\n",
              "\n",
              "[160 rows x 1 columns]"
            ]
          },
          "metadata": {},
          "execution_count": 171
        }
      ]
    },
    {
      "cell_type": "code",
      "metadata": {
        "id": "af4164da"
      },
      "source": [
        "result = pd.concat([datad, data_value], axis=1, join='inner')"
      ],
      "id": "af4164da",
      "execution_count": null,
      "outputs": []
    },
    {
      "cell_type": "code",
      "metadata": {
        "colab": {
          "base_uri": "https://localhost:8080/",
          "height": 424
        },
        "id": "4b37ca3e",
        "outputId": "98db04be-652c-436f-954d-a7650e3e0ff8"
      },
      "source": [
        "# df_row_reindex = pd.concat([data_nn, data_value], ignore_index=True)\n",
        "result"
      ],
      "id": "4b37ca3e",
      "execution_count": null,
      "outputs": [
        {
          "output_type": "execute_result",
          "data": {
            "text/html": [
              "<div>\n",
              "<style scoped>\n",
              "    .dataframe tbody tr th:only-of-type {\n",
              "        vertical-align: middle;\n",
              "    }\n",
              "\n",
              "    .dataframe tbody tr th {\n",
              "        vertical-align: top;\n",
              "    }\n",
              "\n",
              "    .dataframe thead th {\n",
              "        text-align: right;\n",
              "    }\n",
              "</style>\n",
              "<table border=\"1\" class=\"dataframe\">\n",
              "  <thead>\n",
              "    <tr style=\"text-align: right;\">\n",
              "      <th></th>\n",
              "      <th>Lines</th>\n",
              "      <th>Value</th>\n",
              "    </tr>\n",
              "  </thead>\n",
              "  <tbody>\n",
              "    <tr>\n",
              "      <th>0</th>\n",
              "      <td>[Skip to main content Advertisement Search Exp...</td>\n",
              "      <td>20</td>\n",
              "    </tr>\n",
              "    <tr>\n",
              "      <th>1</th>\n",
              "      <td>[mis Search OAE Journals Search in all OAE Jou...</td>\n",
              "      <td>22</td>\n",
              "    </tr>\n",
              "    <tr>\n",
              "      <th>2</th>\n",
              "      <td>[Close Set Your Location to See Relevant Infor...</td>\n",
              "      <td>23</td>\n",
              "    </tr>\n",
              "    <tr>\n",
              "      <th>3</th>\n",
              "      <td>[Close Set Your Location to See Relevant Infor...</td>\n",
              "      <td>15</td>\n",
              "    </tr>\n",
              "    <tr>\n",
              "      <th>4</th>\n",
              "      <td>[View COVID-19 vaccine FAQs, facility &amp; servic...</td>\n",
              "      <td>19</td>\n",
              "    </tr>\n",
              "    <tr>\n",
              "      <th>...</th>\n",
              "      <td>...</td>\n",
              "      <td>...</td>\n",
              "    </tr>\n",
              "    <tr>\n",
              "      <th>155</th>\n",
              "      <td>[Our website uses cookies. Please review our p...</td>\n",
              "      <td>21</td>\n",
              "    </tr>\n",
              "    <tr>\n",
              "      <th>156</th>\n",
              "      <td>[Contact Emergency1066 Apollo lifeline1860-500...</td>\n",
              "      <td>20</td>\n",
              "    </tr>\n",
              "    <tr>\n",
              "      <th>157</th>\n",
              "      <td>[× Important information about novel coronavir...</td>\n",
              "      <td>22</td>\n",
              "    </tr>\n",
              "    <tr>\n",
              "      <th>158</th>\n",
              "      <td>[General Line +603-7491 9191 Ambulance +6019-3...</td>\n",
              "      <td>15</td>\n",
              "    </tr>\n",
              "    <tr>\n",
              "      <th>159</th>\n",
              "      <td>[Your browser does not support inline frames o...</td>\n",
              "      <td>15</td>\n",
              "    </tr>\n",
              "  </tbody>\n",
              "</table>\n",
              "<p>160 rows × 2 columns</p>\n",
              "</div>"
            ],
            "text/plain": [
              "                                                 Lines Value\n",
              "0    [Skip to main content Advertisement Search Exp...    20\n",
              "1    [mis Search OAE Journals Search in all OAE Jou...    22\n",
              "2    [Close Set Your Location to See Relevant Infor...    23\n",
              "3    [Close Set Your Location to See Relevant Infor...    15\n",
              "4    [View COVID-19 vaccine FAQs, facility & servic...    19\n",
              "..                                                 ...   ...\n",
              "155  [Our website uses cookies. Please review our p...    21\n",
              "156  [Contact Emergency1066 Apollo lifeline1860-500...    20\n",
              "157  [× Important information about novel coronavir...    22\n",
              "158  [General Line +603-7491 9191 Ambulance +6019-3...    15\n",
              "159  [Your browser does not support inline frames o...    15\n",
              "\n",
              "[160 rows x 2 columns]"
            ]
          },
          "metadata": {},
          "execution_count": 173
        }
      ]
    },
    {
      "cell_type": "code",
      "metadata": {
        "id": "mhwU1rotpMQl"
      },
      "source": [
        "result[\"Lines\"] = result[\"Lines\"].str.get(0)\n",
        "#df['value'] = df['value'].str.get(0)"
      ],
      "id": "mhwU1rotpMQl",
      "execution_count": null,
      "outputs": []
    },
    {
      "cell_type": "code",
      "metadata": {
        "colab": {
          "base_uri": "https://localhost:8080/",
          "height": 424
        },
        "id": "Bptf1A_Lqt6V",
        "outputId": "7864103a-8c29-4990-8c3f-fe977be22015"
      },
      "source": [
        "result"
      ],
      "id": "Bptf1A_Lqt6V",
      "execution_count": null,
      "outputs": [
        {
          "output_type": "execute_result",
          "data": {
            "text/html": [
              "<div>\n",
              "<style scoped>\n",
              "    .dataframe tbody tr th:only-of-type {\n",
              "        vertical-align: middle;\n",
              "    }\n",
              "\n",
              "    .dataframe tbody tr th {\n",
              "        vertical-align: top;\n",
              "    }\n",
              "\n",
              "    .dataframe thead th {\n",
              "        text-align: right;\n",
              "    }\n",
              "</style>\n",
              "<table border=\"1\" class=\"dataframe\">\n",
              "  <thead>\n",
              "    <tr style=\"text-align: right;\">\n",
              "      <th></th>\n",
              "      <th>Lines</th>\n",
              "      <th>Value</th>\n",
              "    </tr>\n",
              "  </thead>\n",
              "  <tbody>\n",
              "    <tr>\n",
              "      <th>0</th>\n",
              "      <td>Skip to main content Advertisement Search Expl...</td>\n",
              "      <td>20</td>\n",
              "    </tr>\n",
              "    <tr>\n",
              "      <th>1</th>\n",
              "      <td>mis Search OAE Journals Search in all OAE Jour...</td>\n",
              "      <td>22</td>\n",
              "    </tr>\n",
              "    <tr>\n",
              "      <th>2</th>\n",
              "      <td>Close Set Your Location to See Relevant Inform...</td>\n",
              "      <td>23</td>\n",
              "    </tr>\n",
              "    <tr>\n",
              "      <th>3</th>\n",
              "      <td>Close Set Your Location to See Relevant Inform...</td>\n",
              "      <td>15</td>\n",
              "    </tr>\n",
              "    <tr>\n",
              "      <th>4</th>\n",
              "      <td>View COVID-19 vaccine FAQs, facility &amp; service...</td>\n",
              "      <td>19</td>\n",
              "    </tr>\n",
              "    <tr>\n",
              "      <th>...</th>\n",
              "      <td>...</td>\n",
              "      <td>...</td>\n",
              "    </tr>\n",
              "    <tr>\n",
              "      <th>155</th>\n",
              "      <td>Our website uses cookies. Please review our pr...</td>\n",
              "      <td>21</td>\n",
              "    </tr>\n",
              "    <tr>\n",
              "      <th>156</th>\n",
              "      <td>Contact Emergency1066 Apollo lifeline1860-500-...</td>\n",
              "      <td>20</td>\n",
              "    </tr>\n",
              "    <tr>\n",
              "      <th>157</th>\n",
              "      <td>× Important information about novel coronaviru...</td>\n",
              "      <td>22</td>\n",
              "    </tr>\n",
              "    <tr>\n",
              "      <th>158</th>\n",
              "      <td>General Line +603-7491 9191 Ambulance +6019-30...</td>\n",
              "      <td>15</td>\n",
              "    </tr>\n",
              "    <tr>\n",
              "      <th>159</th>\n",
              "      <td>Your browser does not support inline frames or...</td>\n",
              "      <td>15</td>\n",
              "    </tr>\n",
              "  </tbody>\n",
              "</table>\n",
              "<p>160 rows × 2 columns</p>\n",
              "</div>"
            ],
            "text/plain": [
              "                                                 Lines Value\n",
              "0    Skip to main content Advertisement Search Expl...    20\n",
              "1    mis Search OAE Journals Search in all OAE Jour...    22\n",
              "2    Close Set Your Location to See Relevant Inform...    23\n",
              "3    Close Set Your Location to See Relevant Inform...    15\n",
              "4    View COVID-19 vaccine FAQs, facility & service...    19\n",
              "..                                                 ...   ...\n",
              "155  Our website uses cookies. Please review our pr...    21\n",
              "156  Contact Emergency1066 Apollo lifeline1860-500-...    20\n",
              "157  × Important information about novel coronaviru...    22\n",
              "158  General Line +603-7491 9191 Ambulance +6019-30...    15\n",
              "159  Your browser does not support inline frames or...    15\n",
              "\n",
              "[160 rows x 2 columns]"
            ]
          },
          "metadata": {},
          "execution_count": 175
        }
      ]
    },
    {
      "cell_type": "markdown",
      "metadata": {
        "id": "Q09ErSrlUhnu"
      },
      "source": [
        "Third Effort"
      ],
      "id": "Q09ErSrlUhnu"
    },
    {
      "cell_type": "code",
      "metadata": {
        "id": "4eyS0WLUVD47"
      },
      "source": [
        "import pandas as pd\n",
        "import nltk\n",
        "import seaborn as sn\n",
        "from nltk.corpus import stopwords\n",
        "from sklearn.feature_extraction.text import TfidfVectorizer\n",
        "from sklearn.model_selection import train_test_split\n",
        "from sklearn import naive_bayes\n",
        "from sklearn.metrics import roc_auc_score\n",
        "import sklearn.metrics as metrics\n",
        "from nltk.tokenize import word_tokenize\n",
        "from nltk import pos_tag\n",
        "from nltk.corpus import stopwords\n",
        "from nltk.stem import WordNetLemmatizer\n",
        "from sklearn.preprocessing import LabelEncoder\n",
        "from collections import defaultdict\n",
        "from nltk.corpus import wordnet as wn\n",
        "from sklearn.feature_extraction.text import TfidfVectorizer\n",
        "from sklearn import model_selection, naive_bayes, svm\n",
        "from sklearn.metrics import accuracy_score"
      ],
      "id": "4eyS0WLUVD47",
      "execution_count": null,
      "outputs": []
    },
    {
      "cell_type": "code",
      "metadata": {
        "id": "a_CVi95eC3UG"
      },
      "source": [
        "from sklearn.feature_extraction.text import TfidfVectorizer\n",
        "from nltk.corpus import stopwords\n",
        "\n"
      ],
      "id": "a_CVi95eC3UG",
      "execution_count": null,
      "outputs": []
    },
    {
      "cell_type": "code",
      "metadata": {
        "id": "zgfwFHmGUf7m"
      },
      "source": [
        ""
      ],
      "id": "zgfwFHmGUf7m",
      "execution_count": null,
      "outputs": []
    },
    {
      "cell_type": "code",
      "metadata": {
        "id": "fFo0BU4NC3ZJ"
      },
      "source": [
        "def preprocess_data(data):\n",
        "    result['Lines'] = result['Lines'].str.strip().str.lower()\n",
        "    return data"
      ],
      "id": "fFo0BU4NC3ZJ",
      "execution_count": null,
      "outputs": []
    },
    {
      "cell_type": "code",
      "metadata": {
        "id": "T0Rbf_xSC3dw"
      },
      "source": [
        "data = preprocess_data(result)"
      ],
      "id": "T0Rbf_xSC3dw",
      "execution_count": null,
      "outputs": []
    },
    {
      "cell_type": "code",
      "metadata": {
        "colab": {
          "base_uri": "https://localhost:8080/",
          "height": 424
        },
        "id": "Ujh51M0AC3mw",
        "outputId": "01bf458d-f501-4325-b647-01aa5703ccbb"
      },
      "source": [
        "data"
      ],
      "id": "Ujh51M0AC3mw",
      "execution_count": null,
      "outputs": [
        {
          "output_type": "execute_result",
          "data": {
            "text/html": [
              "<div>\n",
              "<style scoped>\n",
              "    .dataframe tbody tr th:only-of-type {\n",
              "        vertical-align: middle;\n",
              "    }\n",
              "\n",
              "    .dataframe tbody tr th {\n",
              "        vertical-align: top;\n",
              "    }\n",
              "\n",
              "    .dataframe thead th {\n",
              "        text-align: right;\n",
              "    }\n",
              "</style>\n",
              "<table border=\"1\" class=\"dataframe\">\n",
              "  <thead>\n",
              "    <tr style=\"text-align: right;\">\n",
              "      <th></th>\n",
              "      <th>Lines</th>\n",
              "      <th>Value</th>\n",
              "    </tr>\n",
              "  </thead>\n",
              "  <tbody>\n",
              "    <tr>\n",
              "      <th>0</th>\n",
              "      <td>skip to main content advertisement search expl...</td>\n",
              "      <td>20</td>\n",
              "    </tr>\n",
              "    <tr>\n",
              "      <th>1</th>\n",
              "      <td>mis search oae journals search in all oae jour...</td>\n",
              "      <td>22</td>\n",
              "    </tr>\n",
              "    <tr>\n",
              "      <th>2</th>\n",
              "      <td>close set your location to see relevant inform...</td>\n",
              "      <td>23</td>\n",
              "    </tr>\n",
              "    <tr>\n",
              "      <th>3</th>\n",
              "      <td>close set your location to see relevant inform...</td>\n",
              "      <td>15</td>\n",
              "    </tr>\n",
              "    <tr>\n",
              "      <th>4</th>\n",
              "      <td>view covid-19 vaccine faqs, facility &amp; service...</td>\n",
              "      <td>19</td>\n",
              "    </tr>\n",
              "    <tr>\n",
              "      <th>...</th>\n",
              "      <td>...</td>\n",
              "      <td>...</td>\n",
              "    </tr>\n",
              "    <tr>\n",
              "      <th>155</th>\n",
              "      <td>our website uses cookies. please review our pr...</td>\n",
              "      <td>21</td>\n",
              "    </tr>\n",
              "    <tr>\n",
              "      <th>156</th>\n",
              "      <td>contact emergency1066 apollo lifeline1860-500-...</td>\n",
              "      <td>20</td>\n",
              "    </tr>\n",
              "    <tr>\n",
              "      <th>157</th>\n",
              "      <td>× important information about novel coronaviru...</td>\n",
              "      <td>22</td>\n",
              "    </tr>\n",
              "    <tr>\n",
              "      <th>158</th>\n",
              "      <td>general line +603-7491 9191 ambulance +6019-30...</td>\n",
              "      <td>15</td>\n",
              "    </tr>\n",
              "    <tr>\n",
              "      <th>159</th>\n",
              "      <td>your browser does not support inline frames or...</td>\n",
              "      <td>15</td>\n",
              "    </tr>\n",
              "  </tbody>\n",
              "</table>\n",
              "<p>160 rows × 2 columns</p>\n",
              "</div>"
            ],
            "text/plain": [
              "                                                 Lines Value\n",
              "0    skip to main content advertisement search expl...    20\n",
              "1    mis search oae journals search in all oae jour...    22\n",
              "2    close set your location to see relevant inform...    23\n",
              "3    close set your location to see relevant inform...    15\n",
              "4    view covid-19 vaccine faqs, facility & service...    19\n",
              "..                                                 ...   ...\n",
              "155  our website uses cookies. please review our pr...    21\n",
              "156  contact emergency1066 apollo lifeline1860-500-...    20\n",
              "157  × important information about novel coronaviru...    22\n",
              "158  general line +603-7491 9191 ambulance +6019-30...    15\n",
              "159  your browser does not support inline frames or...    15\n",
              "\n",
              "[160 rows x 2 columns]"
            ]
          },
          "metadata": {},
          "execution_count": 180
        }
      ]
    },
    {
      "cell_type": "code",
      "metadata": {
        "colab": {
          "base_uri": "https://localhost:8080/",
          "height": 285
        },
        "id": "-kkHwbAkFVta",
        "outputId": "157c5d27-159f-408e-d1aa-647c9d4ca83d"
      },
      "source": [
        "import seaborn as sns\n",
        "sns.set_theme(style=\"darkgrid\")\n",
        "ax = sns.countplot(x=\"Value\", data= data)"
      ],
      "id": "-kkHwbAkFVta",
      "execution_count": null,
      "outputs": [
        {
          "output_type": "display_data",
          "data": {
            "image/png": "[encoded data removed]",
            "text/plain": [
              "<Figure size 432x288 with 1 Axes>"
            ]
          },
          "metadata": {}
        }
      ]
    },
    {
      "cell_type": "markdown",
      "metadata": {
        "id": "_JGUmhw1nOW_"
      },
      "source": [
        ""
      ],
      "id": "_JGUmhw1nOW_"
    },
    {
      "cell_type": "code",
      "metadata": {
        "id": "h_3BfUjpC3sr"
      },
      "source": [
        "from sklearn.model_selection import train_test_split\n",
        "x = data['Lines']\n",
        "y = data['Value']\n",
        "x, x_test, y, y_test = train_test_split(x,y, test_size=0.25, random_state=42)"
      ],
      "id": "h_3BfUjpC3sr",
      "execution_count": null,
      "outputs": []
    },
    {
      "cell_type": "code",
      "metadata": {
        "id": "O8i54fMnDw6D"
      },
      "source": [
        "import joblib\n",
        "from sklearn.feature_extraction.text import CountVectorizer"
      ],
      "id": "O8i54fMnDw6D",
      "execution_count": null,
      "outputs": []
    },
    {
      "cell_type": "code",
      "metadata": {
        "id": "i_v_Ng10EJr9"
      },
      "source": [
        "vec = CountVectorizer(stop_words='english')\n"
      ],
      "id": "i_v_Ng10EJr9",
      "execution_count": null,
      "outputs": []
    },
    {
      "cell_type": "code",
      "metadata": {
        "id": "26iSUjiAEJwU"
      },
      "source": [
        "x = vec.fit_transform(x.values.astype('U')).toarray()\n",
        "x_test = vec.transform(x_test.values.astype('U')).toarray()\n"
      ],
      "id": "26iSUjiAEJwU",
      "execution_count": null,
      "outputs": []
    },
    {
      "cell_type": "code",
      "metadata": {
        "colab": {
          "base_uri": "https://localhost:8080/"
        },
        "id": "4aLgcNZ4Ft7y",
        "outputId": "cefb3567-55db-453f-8728-3d0bf76fcd04"
      },
      "source": [
        "x"
      ],
      "id": "4aLgcNZ4Ft7y",
      "execution_count": null,
      "outputs": [
        {
          "output_type": "execute_result",
          "data": {
            "text/plain": [
              "array([[  0,   0,   0, ...,   0,   0,   0],\n",
              "       [  0,   0,   0, ...,   0,   0,   0],\n",
              "       [ 19,  22,   0, ...,   0,   0,   0],\n",
              "       ...,\n",
              "       [  5,   4,   0, ...,   0,   0,   0],\n",
              "       [111,   9,   0, ...,   0,   0,   0],\n",
              "       [ 10,   4,   0, ...,   0,   0,   0]])"
            ]
          },
          "metadata": {},
          "execution_count": 186
        }
      ]
    },
    {
      "cell_type": "code",
      "metadata": {
        "colab": {
          "base_uri": "https://localhost:8080/"
        },
        "id": "GaBSKrOiJNmb",
        "outputId": "2cf05edc-ffdb-476b-c6a9-e44173c48ec7"
      },
      "source": [
        "y"
      ],
      "id": "GaBSKrOiJNmb",
      "execution_count": null,
      "outputs": [
        {
          "output_type": "execute_result",
          "data": {
            "text/plain": [
              "26     16\n",
              "138    22\n",
              "82     23\n",
              "96     21\n",
              "146    24\n",
              "       ..\n",
              "71     18\n",
              "106    24\n",
              "14     17\n",
              "92     20\n",
              "102    21\n",
              "Name: Value, Length: 120, dtype: object"
            ]
          },
          "metadata": {},
          "execution_count": 187
        }
      ]
    },
    {
      "cell_type": "code",
      "metadata": {
        "id": "RGsWU-GHIz_p"
      },
      "source": [
        "y = y.astype('int')"
      ],
      "id": "RGsWU-GHIz_p",
      "execution_count": null,
      "outputs": []
    },
    {
      "cell_type": "code",
      "metadata": {
        "colab": {
          "base_uri": "https://localhost:8080/"
        },
        "id": "pyXDEzcmOy_b",
        "outputId": "8748d53e-e6fd-47b6-b7c9-28313f5846b8"
      },
      "source": [
        "from sklearn.svm import SVR\n",
        "regressor = SVR(kernel = 'rbf')\n",
        "regressor.fit(x, y)"
      ],
      "id": "pyXDEzcmOy_b",
      "execution_count": null,
      "outputs": [
        {
          "output_type": "execute_result",
          "data": {
            "text/plain": [
              "SVR()"
            ]
          },
          "metadata": {},
          "execution_count": 189
        }
      ]
    },
    {
      "cell_type": "code",
      "metadata": {
        "id": "lO1ykHK5eC5T"
      },
      "source": [
        "y_predvalidation = regressor.predict(x_test)\n"
      ],
      "id": "lO1ykHK5eC5T",
      "execution_count": null,
      "outputs": []
    },
    {
      "cell_type": "code",
      "metadata": {
        "colab": {
          "base_uri": "https://localhost:8080/"
        },
        "id": "q2wc3arZQn-j",
        "outputId": "b8c52056-ad0f-4673-85c8-d2d666eb0fe1"
      },
      "source": [
        "regressor.score(x_test, y_test)"
      ],
      "id": "q2wc3arZQn-j",
      "execution_count": null,
      "outputs": [
        {
          "output_type": "execute_result",
          "data": {
            "text/plain": [
              "0.01258584944547414"
            ]
          },
          "metadata": {},
          "execution_count": 191
        }
      ]
    },
    {
      "cell_type": "code",
      "metadata": {
        "colab": {
          "base_uri": "https://localhost:8080/"
        },
        "id": "EMdIE5TfQvCC",
        "outputId": "878fb483-9cd8-4284-fdb8-f510bc03ed5e"
      },
      "source": [
        "from sklearn.metrics import mean_absolute_error\n",
        "\n",
        "mae = mean_absolute_error(y_test, y_predvalidation)\n",
        "\n",
        "mae"
      ],
      "id": "EMdIE5TfQvCC",
      "execution_count": null,
      "outputs": [
        {
          "output_type": "execute_result",
          "data": {
            "text/plain": [
              "2.5056964546347538"
            ]
          },
          "metadata": {},
          "execution_count": 192
        }
      ]
    },
    {
      "cell_type": "code",
      "metadata": {
        "colab": {
          "base_uri": "https://localhost:8080/"
        },
        "id": "56JqnEH6e_dr",
        "outputId": "63c79029-311e-4a72-c073-eb141834d926"
      },
      "source": [
        "from sklearn.metrics import mean_squared_error\n",
        "\n",
        "mse = mean_squared_error(y_test, y_predvalidation)\n",
        "\n",
        "mse"
      ],
      "id": "56JqnEH6e_dr",
      "execution_count": null,
      "outputs": [
        {
          "output_type": "execute_result",
          "data": {
            "text/plain": [
              "13.04374092882529"
            ]
          },
          "metadata": {},
          "execution_count": 193
        }
      ]
    },
    {
      "cell_type": "code",
      "metadata": {
        "colab": {
          "base_uri": "https://localhost:8080/"
        },
        "id": "benK8SKWfUVN",
        "outputId": "3994385e-0f9c-4c82-f6af-17d64cea5306"
      },
      "source": [
        "import math\n",
        "import numpy as np\n",
        "MSE = np.square(np.subtract(y_test, y_predvalidation)).mean() \n",
        " \n",
        "RMSE = math.sqrt(MSE)\n",
        "print(\"Root Mean Square Error:\\n\")\n",
        "print(RMSE)"
      ],
      "id": "benK8SKWfUVN",
      "execution_count": null,
      "outputs": [
        {
          "output_type": "stream",
          "name": "stdout",
          "text": [
            "Root Mean Square Error:\n",
            "\n",
            "3.6116119571218173\n"
          ]
        }
      ]
    },
    {
      "cell_type": "code",
      "metadata": {
        "id": "414fQn98g-g4"
      },
      "source": [
        "cutoff = 0.9                              \n",
        "y_pred_classes = np.zeros_like(y_predvalidation)    \n",
        "y_pred_classes[y_predvalidation > cutoff] = 1 "
      ],
      "id": "414fQn98g-g4",
      "execution_count": null,
      "outputs": []
    },
    {
      "cell_type": "code",
      "metadata": {
        "id": "GqoMND1diJBd"
      },
      "source": [
        "y_test_classes = np.zeros_like(y_predvalidation)\n",
        "y_test_classes[y_test > cutoff] = 1"
      ],
      "id": "GqoMND1diJBd",
      "execution_count": null,
      "outputs": []
    },
    {
      "cell_type": "code",
      "metadata": {
        "colab": {
          "base_uri": "https://localhost:8080/"
        },
        "id": "uidDO_YliQUy",
        "outputId": "19d252be-5fa2-4f8d-c8a0-fff97365ce94"
      },
      "source": [
        "from sklearn.metrics import confusion_matrix\n",
        "confusion_matrix(y_test_classes, y_pred_classes)"
      ],
      "id": "uidDO_YliQUy",
      "execution_count": null,
      "outputs": [
        {
          "output_type": "execute_result",
          "data": {
            "text/plain": [
              "array([[40]])"
            ]
          },
          "metadata": {},
          "execution_count": 198
        }
      ]
    },
    {
      "cell_type": "code",
      "metadata": {
        "id": "cdYT_jVOiTOk"
      },
      "source": [
        "from sklearn import metrics"
      ],
      "id": "cdYT_jVOiTOk",
      "execution_count": null,
      "outputs": []
    },
    {
      "cell_type": "code",
      "metadata": {
        "colab": {
          "base_uri": "https://localhost:8080/"
        },
        "id": "8t1NCz-eirP_",
        "outputId": "e41a5bf9-dea6-41ea-8b45-a2bd035d72c8"
      },
      "source": [
        "print(metrics.classification_report(y_test_classes, y_pred_classes))"
      ],
      "id": "8t1NCz-eirP_",
      "execution_count": null,
      "outputs": [
        {
          "output_type": "stream",
          "name": "stdout",
          "text": [
            "              precision    recall  f1-score   support\n",
            "\n",
            "         1.0       1.00      1.00      1.00        40\n",
            "\n",
            "    accuracy                           1.00        40\n",
            "   macro avg       1.00      1.00      1.00        40\n",
            "weighted avg       1.00      1.00      1.00        40\n",
            "\n"
          ]
        }
      ]
    },
    {
      "cell_type": "code",
      "metadata": {
        "colab": {
          "base_uri": "https://localhost:8080/"
        },
        "id": "rHmQ41e9lEwL",
        "outputId": "0a19231c-bde2-4656-ffe1-c59113d5f744"
      },
      "source": [
        ""
      ],
      "id": "rHmQ41e9lEwL",
      "execution_count": null,
      "outputs": [
        {
          "output_type": "stream",
          "name": "stdout",
          "text": [
            "\u001b[31mERROR: Could not find a version that satisfies the requirement scikitplot (from versions: none)\u001b[0m\n",
            "\u001b[31mERROR: No matching distribution found for scikitplot\u001b[0m\n"
          ]
        }
      ]
    },
    {
      "cell_type": "code",
      "metadata": {
        "id": "iTdD8NS2nLRU"
      },
      "source": [
        "from sklearn.linear_model import LogisticRegression"
      ],
      "id": "iTdD8NS2nLRU",
      "execution_count": null,
      "outputs": []
    },
    {
      "cell_type": "code",
      "metadata": {
        "id": "nXOZaQnwnaQx"
      },
      "source": [
        "logreg = LogisticRegression()"
      ],
      "id": "nXOZaQnwnaQx",
      "execution_count": null,
      "outputs": []
    },
    {
      "cell_type": "code",
      "metadata": {
        "colab": {
          "base_uri": "https://localhost:8080/"
        },
        "id": "kM5oxLN2ndlH",
        "outputId": "a91ea11b-7b38-4804-cd21-726eb9798c10"
      },
      "source": [
        "logreg.fit(x,y)"
      ],
      "id": "kM5oxLN2ndlH",
      "execution_count": null,
      "outputs": [
        {
          "output_type": "stream",
          "name": "stderr",
          "text": [
            "/usr/local/lib/python3.7/dist-packages/sklearn/linear_model/_logistic.py:818: ConvergenceWarning: lbfgs failed to converge (status=1):\n",
            "STOP: TOTAL NO. of ITERATIONS REACHED LIMIT.\n",
            "\n",
            "Increase the number of iterations (max_iter) or scale the data as shown in:\n",
            "    https://scikit-learn.org/stable/modules/preprocessing.html\n",
            "Please also refer to the documentation for alternative solver options:\n",
            "    https://scikit-learn.org/stable/modules/linear_model.html#logistic-regression\n",
            "  extra_warning_msg=_LOGISTIC_SOLVER_CONVERGENCE_MSG,\n"
          ]
        },
        {
          "output_type": "execute_result",
          "data": {
            "text/plain": [
              "LogisticRegression()"
            ]
          },
          "metadata": {},
          "execution_count": 211
        }
      ]
    },
    {
      "cell_type": "code",
      "metadata": {
        "id": "xO3xJUMcnhjY"
      },
      "source": [
        "y_predvalidation = logreg.predict(x_test)\n"
      ],
      "id": "xO3xJUMcnhjY",
      "execution_count": null,
      "outputs": []
    },
    {
      "cell_type": "code",
      "metadata": {
        "id": "IgeMZiP6pClB",
        "colab": {
          "base_uri": "https://localhost:8080/",
          "height": 345
        },
        "outputId": "13c12e89-715c-4938-f6cb-5ba396908de8"
      },
      "source": [
        "import matplotlib.pyplot as plt\n",
        "from sklearn.metrics import roc_auc_score\n",
        "roc_auc_score(y_test, y_predvalidation)\n"
      ],
      "id": "IgeMZiP6pClB",
      "execution_count": null,
      "outputs": [
        {
          "output_type": "error",
          "ename": "ValueError",
          "evalue": "ignored",
          "traceback": [
            "\u001b[0;31m---------------------------------------------------------------------------\u001b[0m",
            "\u001b[0;31mValueError\u001b[0m                                Traceback (most recent call last)",
            "\u001b[0;32m<ipython-input-213-e4fd1cb5f5aa>\u001b[0m in \u001b[0;36m<module>\u001b[0;34m()\u001b[0m\n\u001b[1;32m      1\u001b[0m \u001b[0;32mimport\u001b[0m \u001b[0mmatplotlib\u001b[0m\u001b[0;34m.\u001b[0m\u001b[0mpyplot\u001b[0m \u001b[0;32mas\u001b[0m \u001b[0mplt\u001b[0m\u001b[0;34m\u001b[0m\u001b[0;34m\u001b[0m\u001b[0m\n\u001b[1;32m      2\u001b[0m \u001b[0;32mfrom\u001b[0m \u001b[0msklearn\u001b[0m\u001b[0;34m.\u001b[0m\u001b[0mmetrics\u001b[0m \u001b[0;32mimport\u001b[0m \u001b[0mroc_auc_score\u001b[0m\u001b[0;34m\u001b[0m\u001b[0;34m\u001b[0m\u001b[0m\n\u001b[0;32m----> 3\u001b[0;31m \u001b[0mroc_auc_score\u001b[0m\u001b[0;34m(\u001b[0m\u001b[0my_test\u001b[0m\u001b[0;34m,\u001b[0m \u001b[0my_predvalidation\u001b[0m\u001b[0;34m)\u001b[0m\u001b[0;34m\u001b[0m\u001b[0;34m\u001b[0m\u001b[0m\n\u001b[0m",
            "\u001b[0;32m/usr/local/lib/python3.7/dist-packages/sklearn/metrics/_ranking.py\u001b[0m in \u001b[0;36mroc_auc_score\u001b[0;34m(y_true, y_score, average, sample_weight, max_fpr, multi_class, labels)\u001b[0m\n\u001b[1;32m    578\u001b[0m             \u001b[0my_score\u001b[0m\u001b[0;34m,\u001b[0m\u001b[0;34m\u001b[0m\u001b[0;34m\u001b[0m\u001b[0m\n\u001b[1;32m    579\u001b[0m             \u001b[0maverage\u001b[0m\u001b[0;34m,\u001b[0m\u001b[0;34m\u001b[0m\u001b[0;34m\u001b[0m\u001b[0m\n\u001b[0;32m--> 580\u001b[0;31m             \u001b[0msample_weight\u001b[0m\u001b[0;34m=\u001b[0m\u001b[0msample_weight\u001b[0m\u001b[0;34m,\u001b[0m\u001b[0;34m\u001b[0m\u001b[0;34m\u001b[0m\u001b[0m\n\u001b[0m\u001b[1;32m    581\u001b[0m         )\n\u001b[1;32m    582\u001b[0m \u001b[0;34m\u001b[0m\u001b[0m\n",
            "\u001b[0;32m/usr/local/lib/python3.7/dist-packages/sklearn/metrics/_base.py\u001b[0m in \u001b[0;36m_average_binary_score\u001b[0;34m(binary_metric, y_true, y_score, average, sample_weight)\u001b[0m\n\u001b[1;32m     70\u001b[0m     \u001b[0my_type\u001b[0m \u001b[0;34m=\u001b[0m \u001b[0mtype_of_target\u001b[0m\u001b[0;34m(\u001b[0m\u001b[0my_true\u001b[0m\u001b[0;34m)\u001b[0m\u001b[0;34m\u001b[0m\u001b[0;34m\u001b[0m\u001b[0m\n\u001b[1;32m     71\u001b[0m     \u001b[0;32mif\u001b[0m \u001b[0my_type\u001b[0m \u001b[0;32mnot\u001b[0m \u001b[0;32min\u001b[0m \u001b[0;34m(\u001b[0m\u001b[0;34m\"binary\"\u001b[0m\u001b[0;34m,\u001b[0m \u001b[0;34m\"multilabel-indicator\"\u001b[0m\u001b[0;34m)\u001b[0m\u001b[0;34m:\u001b[0m\u001b[0;34m\u001b[0m\u001b[0;34m\u001b[0m\u001b[0m\n\u001b[0;32m---> 72\u001b[0;31m         \u001b[0;32mraise\u001b[0m \u001b[0mValueError\u001b[0m\u001b[0;34m(\u001b[0m\u001b[0;34m\"{0} format is not supported\"\u001b[0m\u001b[0;34m.\u001b[0m\u001b[0mformat\u001b[0m\u001b[0;34m(\u001b[0m\u001b[0my_type\u001b[0m\u001b[0;34m)\u001b[0m\u001b[0;34m)\u001b[0m\u001b[0;34m\u001b[0m\u001b[0;34m\u001b[0m\u001b[0m\n\u001b[0m\u001b[1;32m     73\u001b[0m \u001b[0;34m\u001b[0m\u001b[0m\n\u001b[1;32m     74\u001b[0m     \u001b[0;32mif\u001b[0m \u001b[0my_type\u001b[0m \u001b[0;34m==\u001b[0m \u001b[0;34m\"binary\"\u001b[0m\u001b[0;34m:\u001b[0m\u001b[0;34m\u001b[0m\u001b[0;34m\u001b[0m\u001b[0m\n",
            "\u001b[0;31mValueError\u001b[0m: unknown format is not supported"
          ]
        }
      ]
    },
    {
      "cell_type": "code",
      "metadata": {
        "id": "iPDHXj3Rng5C"
      },
      "source": [
        ""
      ],
      "id": "iPDHXj3Rng5C",
      "execution_count": null,
      "outputs": []
    },
    {
      "cell_type": "code",
      "metadata": {
        "id": "qDJ8sDumpCvw"
      },
      "source": [
        ""
      ],
      "id": "qDJ8sDumpCvw",
      "execution_count": null,
      "outputs": []
    }
  ]
}